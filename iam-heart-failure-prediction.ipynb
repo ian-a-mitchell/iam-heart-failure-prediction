{
 "cells": [
  {
   "cell_type": "markdown",
   "id": "bc9ae39e",
   "metadata": {
    "papermill": {
     "duration": 0.034908,
     "end_time": "2022-06-04T14:36:03.437561",
     "exception": false,
     "start_time": "2022-06-04T14:36:03.402653",
     "status": "completed"
    },
    "tags": []
   },
   "source": [
    "# Heart Disease Prediction\n",
    "\n",
    "Heart disease is an extremely common medical problem worldwide, [killing more people globally than any other cause](https://www.who.int/news-room/fact-sheets/detail/the-top-10-causes-of-death). One challenge in management of heart disease is detecting it at an early phase so that nonsurgical and even nonmedical interventions such as changes to diet or increased exercise can effectively stop or reverse the course of the disease. An ideal heart disease screener would be fast, accurate, and precise, with the ability provide an effective diagnosis in clinical settings without access to complex and expensive testing equipment or slow laboratory test.\n",
    "\n",
    "Designing such a screener is, however, beyond the scope of this project. Instead, the goal of this project is to experiment with ten different machine learning models from scikit-learn and determine which maximizes the overall accuracy of the predictions (that is, has the highest probability of predicting correctly) as well as discovering which clinical markers from the [Kaggle heart disease prediction dataset](https://www.kaggle.com/fedesoriano/heart-failure-prediction) appear to be most relevant to whether or not a given patient has heart disease. Using this information, a more advanced classifier building on domain expertise could be built to provide a useful screening tool to assist primary care physicians and cardiologists suspecting heart disease in their patients. To begin with, we load a number of libraries and the input dataset, and look at the first few rows of the latter."
   ]
  },
  {
   "cell_type": "code",
   "execution_count": 1,
   "id": "fb238eac",
   "metadata": {
    "execution": {
     "iopub.execute_input": "2022-06-04T14:36:03.511159Z",
     "iopub.status.busy": "2022-06-04T14:36:03.506068Z",
     "iopub.status.idle": "2022-06-04T14:36:04.824247Z",
     "shell.execute_reply": "2022-06-04T14:36:04.824791Z",
     "shell.execute_reply.started": "2022-02-25T21:07:32.99719Z"
    },
    "papermill": {
     "duration": 1.354265,
     "end_time": "2022-06-04T14:36:04.825112",
     "exception": false,
     "start_time": "2022-06-04T14:36:03.470847",
     "status": "completed"
    },
    "tags": []
   },
   "outputs": [
    {
     "name": "stdout",
     "output_type": "stream",
     "text": [
      "This dataset has 918 observations.\n",
      "\n"
     ]
    },
    {
     "data": {
      "text/html": [
       "<div>\n",
       "<style scoped>\n",
       "    .dataframe tbody tr th:only-of-type {\n",
       "        vertical-align: middle;\n",
       "    }\n",
       "\n",
       "    .dataframe tbody tr th {\n",
       "        vertical-align: top;\n",
       "    }\n",
       "\n",
       "    .dataframe thead th {\n",
       "        text-align: right;\n",
       "    }\n",
       "</style>\n",
       "<table border=\"1\" class=\"dataframe\">\n",
       "  <thead>\n",
       "    <tr style=\"text-align: right;\">\n",
       "      <th></th>\n",
       "      <th>Age</th>\n",
       "      <th>Sex</th>\n",
       "      <th>ChestPainType</th>\n",
       "      <th>RestingBP</th>\n",
       "      <th>Cholesterol</th>\n",
       "      <th>FastingBS</th>\n",
       "      <th>RestingECG</th>\n",
       "      <th>MaxHR</th>\n",
       "      <th>ExerciseAngina</th>\n",
       "      <th>Oldpeak</th>\n",
       "      <th>ST_Slope</th>\n",
       "      <th>HeartDisease</th>\n",
       "    </tr>\n",
       "  </thead>\n",
       "  <tbody>\n",
       "    <tr>\n",
       "      <th>0</th>\n",
       "      <td>40</td>\n",
       "      <td>M</td>\n",
       "      <td>ATA</td>\n",
       "      <td>140</td>\n",
       "      <td>289</td>\n",
       "      <td>0</td>\n",
       "      <td>Normal</td>\n",
       "      <td>172</td>\n",
       "      <td>N</td>\n",
       "      <td>0.0</td>\n",
       "      <td>Up</td>\n",
       "      <td>0</td>\n",
       "    </tr>\n",
       "    <tr>\n",
       "      <th>1</th>\n",
       "      <td>49</td>\n",
       "      <td>F</td>\n",
       "      <td>NAP</td>\n",
       "      <td>160</td>\n",
       "      <td>180</td>\n",
       "      <td>0</td>\n",
       "      <td>Normal</td>\n",
       "      <td>156</td>\n",
       "      <td>N</td>\n",
       "      <td>1.0</td>\n",
       "      <td>Flat</td>\n",
       "      <td>1</td>\n",
       "    </tr>\n",
       "    <tr>\n",
       "      <th>2</th>\n",
       "      <td>37</td>\n",
       "      <td>M</td>\n",
       "      <td>ATA</td>\n",
       "      <td>130</td>\n",
       "      <td>283</td>\n",
       "      <td>0</td>\n",
       "      <td>ST</td>\n",
       "      <td>98</td>\n",
       "      <td>N</td>\n",
       "      <td>0.0</td>\n",
       "      <td>Up</td>\n",
       "      <td>0</td>\n",
       "    </tr>\n",
       "    <tr>\n",
       "      <th>3</th>\n",
       "      <td>48</td>\n",
       "      <td>F</td>\n",
       "      <td>ASY</td>\n",
       "      <td>138</td>\n",
       "      <td>214</td>\n",
       "      <td>0</td>\n",
       "      <td>Normal</td>\n",
       "      <td>108</td>\n",
       "      <td>Y</td>\n",
       "      <td>1.5</td>\n",
       "      <td>Flat</td>\n",
       "      <td>1</td>\n",
       "    </tr>\n",
       "    <tr>\n",
       "      <th>4</th>\n",
       "      <td>54</td>\n",
       "      <td>M</td>\n",
       "      <td>NAP</td>\n",
       "      <td>150</td>\n",
       "      <td>195</td>\n",
       "      <td>0</td>\n",
       "      <td>Normal</td>\n",
       "      <td>122</td>\n",
       "      <td>N</td>\n",
       "      <td>0.0</td>\n",
       "      <td>Up</td>\n",
       "      <td>0</td>\n",
       "    </tr>\n",
       "  </tbody>\n",
       "</table>\n",
       "</div>"
      ],
      "text/plain": [
       "   Age Sex ChestPainType  RestingBP  Cholesterol  FastingBS RestingECG  MaxHR  \\\n",
       "0   40   M           ATA        140          289          0     Normal    172   \n",
       "1   49   F           NAP        160          180          0     Normal    156   \n",
       "2   37   M           ATA        130          283          0         ST     98   \n",
       "3   48   F           ASY        138          214          0     Normal    108   \n",
       "4   54   M           NAP        150          195          0     Normal    122   \n",
       "\n",
       "  ExerciseAngina  Oldpeak ST_Slope  HeartDisease  \n",
       "0              N      0.0       Up             0  \n",
       "1              N      1.0     Flat             1  \n",
       "2              N      0.0       Up             0  \n",
       "3              Y      1.5     Flat             1  \n",
       "4              N      0.0       Up             0  "
      ]
     },
     "execution_count": 1,
     "metadata": {},
     "output_type": "execute_result"
    }
   ],
   "source": [
    "import numpy as np # linear algebra\n",
    "import pandas as pd # data processing, CSV file I/O (e.g. pd.read_csv)\n",
    "from sklearn.model_selection import train_test_split # For creating training and testing sets\n",
    "from sklearn.preprocessing import MinMaxScaler # normalizing data\n",
    "\n",
    "# A whole bunch of classifiers.\n",
    "from sklearn.neural_network import MLPClassifier\n",
    "from sklearn.neighbors import KNeighborsClassifier\n",
    "from sklearn.svm import SVC\n",
    "from sklearn.gaussian_process import GaussianProcessClassifier\n",
    "from sklearn.gaussian_process.kernels import RBF\n",
    "from sklearn.tree import DecisionTreeClassifier\n",
    "from sklearn.ensemble import RandomForestClassifier, AdaBoostClassifier\n",
    "from sklearn.naive_bayes import GaussianNB\n",
    "from sklearn.discriminant_analysis import LinearDiscriminantAnalysis, QuadraticDiscriminantAnalysis\n",
    "\n",
    "csv_path = \"heart.csv\"\n",
    "heart_disease_base = pd.read_csv(csv_path)\n",
    "\n",
    "print('This dataset has {} observations.\\n'.format(len(heart_disease_base)))\n",
    "\n",
    "heart_disease_base.head()"
   ]
  },
  {
   "cell_type": "markdown",
   "id": "096a4648",
   "metadata": {
    "papermill": {
     "duration": 0.031637,
     "end_time": "2022-06-04T14:36:04.889134",
     "exception": false,
     "start_time": "2022-06-04T14:36:04.857497",
     "status": "completed"
    },
    "tags": []
   },
   "source": [
    "We can see that the dataset contains a considerable amount of data. Discounting the HeartDisease column, which is intended to provide ground truth validation for our analysis, there are eleven variables in this dataset, describing 918 observations (that is, patients). As usual, it is worth checking whether the data is complete and lacking any missing values."
   ]
  },
  {
   "cell_type": "code",
   "execution_count": 2,
   "id": "31e82bec",
   "metadata": {
    "execution": {
     "iopub.execute_input": "2022-06-04T14:36:04.967319Z",
     "iopub.status.busy": "2022-06-04T14:36:04.966557Z",
     "iopub.status.idle": "2022-06-04T14:36:05.002406Z",
     "shell.execute_reply": "2022-06-04T14:36:05.001702Z",
     "shell.execute_reply.started": "2022-02-25T21:07:34.207457Z"
    },
    "papermill": {
     "duration": 0.081369,
     "end_time": "2022-06-04T14:36:05.002553",
     "exception": false,
     "start_time": "2022-06-04T14:36:04.921184",
     "status": "completed"
    },
    "tags": []
   },
   "outputs": [
    {
     "name": "stdout",
     "output_type": "stream",
     "text": [
      "There are no null values in the dataset.\n",
      "\n"
     ]
    },
    {
     "data": {
      "text/html": [
       "<div>\n",
       "<style scoped>\n",
       "    .dataframe tbody tr th:only-of-type {\n",
       "        vertical-align: middle;\n",
       "    }\n",
       "\n",
       "    .dataframe tbody tr th {\n",
       "        vertical-align: top;\n",
       "    }\n",
       "\n",
       "    .dataframe thead th {\n",
       "        text-align: right;\n",
       "    }\n",
       "</style>\n",
       "<table border=\"1\" class=\"dataframe\">\n",
       "  <thead>\n",
       "    <tr style=\"text-align: right;\">\n",
       "      <th></th>\n",
       "      <th>Age</th>\n",
       "      <th>RestingBP</th>\n",
       "      <th>Cholesterol</th>\n",
       "      <th>FastingBS</th>\n",
       "      <th>MaxHR</th>\n",
       "      <th>Oldpeak</th>\n",
       "      <th>HeartDisease</th>\n",
       "    </tr>\n",
       "  </thead>\n",
       "  <tbody>\n",
       "    <tr>\n",
       "      <th>count</th>\n",
       "      <td>918.000000</td>\n",
       "      <td>918.000000</td>\n",
       "      <td>918.000000</td>\n",
       "      <td>918.000000</td>\n",
       "      <td>918.000000</td>\n",
       "      <td>918.000000</td>\n",
       "      <td>918.000000</td>\n",
       "    </tr>\n",
       "    <tr>\n",
       "      <th>mean</th>\n",
       "      <td>53.510893</td>\n",
       "      <td>132.396514</td>\n",
       "      <td>198.799564</td>\n",
       "      <td>0.233115</td>\n",
       "      <td>136.809368</td>\n",
       "      <td>0.887364</td>\n",
       "      <td>0.553377</td>\n",
       "    </tr>\n",
       "    <tr>\n",
       "      <th>std</th>\n",
       "      <td>9.432617</td>\n",
       "      <td>18.514154</td>\n",
       "      <td>109.384145</td>\n",
       "      <td>0.423046</td>\n",
       "      <td>25.460334</td>\n",
       "      <td>1.066570</td>\n",
       "      <td>0.497414</td>\n",
       "    </tr>\n",
       "    <tr>\n",
       "      <th>min</th>\n",
       "      <td>28.000000</td>\n",
       "      <td>0.000000</td>\n",
       "      <td>0.000000</td>\n",
       "      <td>0.000000</td>\n",
       "      <td>60.000000</td>\n",
       "      <td>-2.600000</td>\n",
       "      <td>0.000000</td>\n",
       "    </tr>\n",
       "    <tr>\n",
       "      <th>25%</th>\n",
       "      <td>47.000000</td>\n",
       "      <td>120.000000</td>\n",
       "      <td>173.250000</td>\n",
       "      <td>0.000000</td>\n",
       "      <td>120.000000</td>\n",
       "      <td>0.000000</td>\n",
       "      <td>0.000000</td>\n",
       "    </tr>\n",
       "    <tr>\n",
       "      <th>50%</th>\n",
       "      <td>54.000000</td>\n",
       "      <td>130.000000</td>\n",
       "      <td>223.000000</td>\n",
       "      <td>0.000000</td>\n",
       "      <td>138.000000</td>\n",
       "      <td>0.600000</td>\n",
       "      <td>1.000000</td>\n",
       "    </tr>\n",
       "    <tr>\n",
       "      <th>75%</th>\n",
       "      <td>60.000000</td>\n",
       "      <td>140.000000</td>\n",
       "      <td>267.000000</td>\n",
       "      <td>0.000000</td>\n",
       "      <td>156.000000</td>\n",
       "      <td>1.500000</td>\n",
       "      <td>1.000000</td>\n",
       "    </tr>\n",
       "    <tr>\n",
       "      <th>max</th>\n",
       "      <td>77.000000</td>\n",
       "      <td>200.000000</td>\n",
       "      <td>603.000000</td>\n",
       "      <td>1.000000</td>\n",
       "      <td>202.000000</td>\n",
       "      <td>6.200000</td>\n",
       "      <td>1.000000</td>\n",
       "    </tr>\n",
       "  </tbody>\n",
       "</table>\n",
       "</div>"
      ],
      "text/plain": [
       "              Age   RestingBP  Cholesterol   FastingBS       MaxHR  \\\n",
       "count  918.000000  918.000000   918.000000  918.000000  918.000000   \n",
       "mean    53.510893  132.396514   198.799564    0.233115  136.809368   \n",
       "std      9.432617   18.514154   109.384145    0.423046   25.460334   \n",
       "min     28.000000    0.000000     0.000000    0.000000   60.000000   \n",
       "25%     47.000000  120.000000   173.250000    0.000000  120.000000   \n",
       "50%     54.000000  130.000000   223.000000    0.000000  138.000000   \n",
       "75%     60.000000  140.000000   267.000000    0.000000  156.000000   \n",
       "max     77.000000  200.000000   603.000000    1.000000  202.000000   \n",
       "\n",
       "          Oldpeak  HeartDisease  \n",
       "count  918.000000    918.000000  \n",
       "mean     0.887364      0.553377  \n",
       "std      1.066570      0.497414  \n",
       "min     -2.600000      0.000000  \n",
       "25%      0.000000      0.000000  \n",
       "50%      0.600000      1.000000  \n",
       "75%      1.500000      1.000000  \n",
       "max      6.200000      1.000000  "
      ]
     },
     "execution_count": 2,
     "metadata": {},
     "output_type": "execute_result"
    }
   ],
   "source": [
    "are_nas = \"\"\n",
    "if not heart_disease_base.isnull().values.any():\n",
    "    are_nas = \"no \"\n",
    "    \n",
    "print('There are {}null values in the dataset.\\n'.format(are_nas))\n",
    "\n",
    "heart_disease_base.describe()"
   ]
  },
  {
   "cell_type": "markdown",
   "id": "2a67766c",
   "metadata": {
    "papermill": {
     "duration": 0.032987,
     "end_time": "2022-06-04T14:36:05.068872",
     "exception": false,
     "start_time": "2022-06-04T14:36:05.035885",
     "status": "completed"
    },
    "tags": []
   },
   "source": [
    "Fortunately, there are no null or NA values in the dataset...at least, under that name. Looking at the column data presents a somewhat different picture, however. Consulting the documentation, the values for most of the columns look reasonable or at least not obviously wrong to a non-expert (bearing in mind that FastingBS and HeartDisease are booleans encoded as ints), but RestingBP and Cholesterol stand out. Clearly, it is not possible for a living human to have a RestingBP of zero, and a Cholesterol level of zero would also be a life-threatening medical emergency. The more likely explanation is that these were simply default values input in cases where blood pressure or cholesterol were not actually measured. This can be checked by determining the number of observations where values of zero are present for each variable, as well as identifying the number of observations where either value falls into the clinical definitions of hypotension (less than 90 mm Hg, assuming that the data is of systolic pressure; the values do appear to be more consistent with systolic pressure than diastolic pressure) or hypocholesterolemia (less than 160 mg/dL of cholesterol)."
   ]
  },
  {
   "cell_type": "code",
   "execution_count": 3,
   "id": "513e457e",
   "metadata": {
    "execution": {
     "iopub.execute_input": "2022-06-04T14:36:05.145095Z",
     "iopub.status.busy": "2022-06-04T14:36:05.143991Z",
     "iopub.status.idle": "2022-06-04T14:36:05.150785Z",
     "shell.execute_reply": "2022-06-04T14:36:05.151399Z",
     "shell.execute_reply.started": "2022-02-25T21:07:34.253756Z"
    },
    "papermill": {
     "duration": 0.049057,
     "end_time": "2022-06-04T14:36:05.151579",
     "exception": false,
     "start_time": "2022-06-04T14:36:05.102522",
     "status": "completed"
    },
    "tags": []
   },
   "outputs": [
    {
     "name": "stdout",
     "output_type": "stream",
     "text": [
      "There are 1 observations with zero blood pressure in the dataset.\n",
      "There are 172 observations with zero blood cholesterol in the dataset.\n",
      "There are 1 observations with low blood pressure in the dataset.\n",
      "There are 25 observations with low blood cholesterol in the dataset\n"
     ]
    }
   ],
   "source": [
    "num_zero_bp = heart_disease_base.RestingBP.value_counts()[0]\n",
    "num_zero_ch = heart_disease_base.Cholesterol.value_counts()[0]\n",
    "num_hypo_bp = len(heart_disease_base.loc[(heart_disease_base['RestingBP'] < 90) & (heart_disease_base['RestingBP'] > 0)])\n",
    "num_hypo_ch = len(heart_disease_base.loc[(heart_disease_base['Cholesterol'] < 160) & (heart_disease_base['Cholesterol'] > 0)])\n",
    "\n",
    "print('There are {} observations with zero blood pressure in the dataset.'.format(num_zero_bp))\n",
    "print('There are {} observations with zero blood cholesterol in the dataset.'.format(num_zero_ch))\n",
    "print('There are {} observations with low blood pressure in the dataset.'.format(num_hypo_bp))\n",
    "print('There are {} observations with low blood cholesterol in the dataset'.format(num_hypo_ch))"
   ]
  },
  {
   "cell_type": "markdown",
   "id": "efed5af8",
   "metadata": {
    "execution": {
     "iopub.execute_input": "2022-01-04T21:05:54.907027Z",
     "iopub.status.busy": "2022-01-04T21:05:54.906372Z",
     "iopub.status.idle": "2022-01-04T21:05:54.915966Z",
     "shell.execute_reply": "2022-01-04T21:05:54.914971Z",
     "shell.execute_reply.started": "2022-01-04T21:05:54.906992Z"
    },
    "papermill": {
     "duration": 0.033077,
     "end_time": "2022-06-04T14:36:05.218536",
     "exception": false,
     "start_time": "2022-06-04T14:36:05.185459",
     "status": "completed"
    },
    "tags": []
   },
   "source": [
    "This indicates that missing blood pressure is not a serious problem, with only a single observation missing a blood pressure value. By contrast, missing cholesterol values are a major issue with the datset; 172 observaitons, about 19%, have no cholesterol value provided. Hypotension and hypocholesterolemia do not appear to be common excluding this, with only a single observation of blood pressures below 90 mm Hg other than those obesrvations with a value of zero, and only 25 observations of blood cholesterol below 160 mm/dL. It is worthwhile to look at the subsets that have non-zero but low values in somewhat more detail, however."
   ]
  },
  {
   "cell_type": "code",
   "execution_count": 4,
   "id": "4d33fdb3",
   "metadata": {
    "execution": {
     "iopub.execute_input": "2022-06-04T14:36:05.289724Z",
     "iopub.status.busy": "2022-06-04T14:36:05.288994Z",
     "iopub.status.idle": "2022-06-04T14:36:05.302707Z",
     "shell.execute_reply": "2022-06-04T14:36:05.303308Z",
     "shell.execute_reply.started": "2022-02-25T21:07:34.268664Z"
    },
    "papermill": {
     "duration": 0.051337,
     "end_time": "2022-06-04T14:36:05.303491",
     "exception": false,
     "start_time": "2022-06-04T14:36:05.252154",
     "status": "completed"
    },
    "tags": []
   },
   "outputs": [
    {
     "data": {
      "text/html": [
       "<div>\n",
       "<style scoped>\n",
       "    .dataframe tbody tr th:only-of-type {\n",
       "        vertical-align: middle;\n",
       "    }\n",
       "\n",
       "    .dataframe tbody tr th {\n",
       "        vertical-align: top;\n",
       "    }\n",
       "\n",
       "    .dataframe thead th {\n",
       "        text-align: right;\n",
       "    }\n",
       "</style>\n",
       "<table border=\"1\" class=\"dataframe\">\n",
       "  <thead>\n",
       "    <tr style=\"text-align: right;\">\n",
       "      <th></th>\n",
       "      <th>Age</th>\n",
       "      <th>Sex</th>\n",
       "      <th>ChestPainType</th>\n",
       "      <th>RestingBP</th>\n",
       "      <th>Cholesterol</th>\n",
       "      <th>FastingBS</th>\n",
       "      <th>RestingECG</th>\n",
       "      <th>MaxHR</th>\n",
       "      <th>ExerciseAngina</th>\n",
       "      <th>Oldpeak</th>\n",
       "      <th>ST_Slope</th>\n",
       "      <th>HeartDisease</th>\n",
       "    </tr>\n",
       "  </thead>\n",
       "  <tbody>\n",
       "    <tr>\n",
       "      <th>314</th>\n",
       "      <td>53</td>\n",
       "      <td>M</td>\n",
       "      <td>ASY</td>\n",
       "      <td>80</td>\n",
       "      <td>0</td>\n",
       "      <td>0</td>\n",
       "      <td>Normal</td>\n",
       "      <td>141</td>\n",
       "      <td>Y</td>\n",
       "      <td>2.0</td>\n",
       "      <td>Down</td>\n",
       "      <td>0</td>\n",
       "    </tr>\n",
       "  </tbody>\n",
       "</table>\n",
       "</div>"
      ],
      "text/plain": [
       "     Age Sex ChestPainType  RestingBP  Cholesterol  FastingBS RestingECG  \\\n",
       "314   53   M           ASY         80            0          0     Normal   \n",
       "\n",
       "     MaxHR ExerciseAngina  Oldpeak ST_Slope  HeartDisease  \n",
       "314    141              Y      2.0     Down             0  "
      ]
     },
     "execution_count": 4,
     "metadata": {},
     "output_type": "execute_result"
    }
   ],
   "source": [
    "heart_disease_base.loc[(heart_disease_base['RestingBP'] < 90) & (heart_disease_base['RestingBP'] > 0)].head()"
   ]
  },
  {
   "cell_type": "markdown",
   "id": "c8057c0f",
   "metadata": {
    "papermill": {
     "duration": 0.033249,
     "end_time": "2022-06-04T14:36:05.370314",
     "exception": false,
     "start_time": "2022-06-04T14:36:05.337065",
     "status": "completed"
    },
    "tags": []
   },
   "source": [
    "The observation that has a low but not-zero blood pressure seems to be normal otherwise, except that it also has missing blood cholesterol values."
   ]
  },
  {
   "cell_type": "code",
   "execution_count": 5,
   "id": "6529131c",
   "metadata": {
    "execution": {
     "iopub.execute_input": "2022-06-04T14:36:05.440544Z",
     "iopub.status.busy": "2022-06-04T14:36:05.439878Z",
     "iopub.status.idle": "2022-06-04T14:36:05.467723Z",
     "shell.execute_reply": "2022-06-04T14:36:05.468232Z",
     "shell.execute_reply.started": "2022-02-25T21:07:34.288994Z"
    },
    "papermill": {
     "duration": 0.06445,
     "end_time": "2022-06-04T14:36:05.468416",
     "exception": false,
     "start_time": "2022-06-04T14:36:05.403966",
     "status": "completed"
    },
    "tags": []
   },
   "outputs": [
    {
     "data": {
      "text/html": [
       "<div>\n",
       "<style scoped>\n",
       "    .dataframe tbody tr th:only-of-type {\n",
       "        vertical-align: middle;\n",
       "    }\n",
       "\n",
       "    .dataframe tbody tr th {\n",
       "        vertical-align: top;\n",
       "    }\n",
       "\n",
       "    .dataframe thead th {\n",
       "        text-align: right;\n",
       "    }\n",
       "</style>\n",
       "<table border=\"1\" class=\"dataframe\">\n",
       "  <thead>\n",
       "    <tr style=\"text-align: right;\">\n",
       "      <th></th>\n",
       "      <th>Age</th>\n",
       "      <th>RestingBP</th>\n",
       "      <th>Cholesterol</th>\n",
       "      <th>FastingBS</th>\n",
       "      <th>MaxHR</th>\n",
       "      <th>Oldpeak</th>\n",
       "      <th>HeartDisease</th>\n",
       "    </tr>\n",
       "  </thead>\n",
       "  <tbody>\n",
       "    <tr>\n",
       "      <th>count</th>\n",
       "      <td>25.000000</td>\n",
       "      <td>25.000000</td>\n",
       "      <td>25.000000</td>\n",
       "      <td>25.000000</td>\n",
       "      <td>25.000000</td>\n",
       "      <td>25.000000</td>\n",
       "      <td>25.000000</td>\n",
       "    </tr>\n",
       "    <tr>\n",
       "      <th>mean</th>\n",
       "      <td>53.120000</td>\n",
       "      <td>130.520000</td>\n",
       "      <td>132.880000</td>\n",
       "      <td>0.200000</td>\n",
       "      <td>136.120000</td>\n",
       "      <td>0.808000</td>\n",
       "      <td>0.520000</td>\n",
       "    </tr>\n",
       "    <tr>\n",
       "      <th>std</th>\n",
       "      <td>12.434227</td>\n",
       "      <td>18.681809</td>\n",
       "      <td>19.946428</td>\n",
       "      <td>0.408248</td>\n",
       "      <td>26.459592</td>\n",
       "      <td>0.931361</td>\n",
       "      <td>0.509902</td>\n",
       "    </tr>\n",
       "    <tr>\n",
       "      <th>min</th>\n",
       "      <td>28.000000</td>\n",
       "      <td>92.000000</td>\n",
       "      <td>85.000000</td>\n",
       "      <td>0.000000</td>\n",
       "      <td>94.000000</td>\n",
       "      <td>0.000000</td>\n",
       "      <td>0.000000</td>\n",
       "    </tr>\n",
       "    <tr>\n",
       "      <th>25%</th>\n",
       "      <td>44.000000</td>\n",
       "      <td>120.000000</td>\n",
       "      <td>123.000000</td>\n",
       "      <td>0.000000</td>\n",
       "      <td>120.000000</td>\n",
       "      <td>0.000000</td>\n",
       "      <td>0.000000</td>\n",
       "    </tr>\n",
       "    <tr>\n",
       "      <th>50%</th>\n",
       "      <td>52.000000</td>\n",
       "      <td>131.000000</td>\n",
       "      <td>139.000000</td>\n",
       "      <td>0.000000</td>\n",
       "      <td>130.000000</td>\n",
       "      <td>0.600000</td>\n",
       "      <td>1.000000</td>\n",
       "    </tr>\n",
       "    <tr>\n",
       "      <th>75%</th>\n",
       "      <td>62.000000</td>\n",
       "      <td>140.000000</td>\n",
       "      <td>149.000000</td>\n",
       "      <td>0.000000</td>\n",
       "      <td>146.000000</td>\n",
       "      <td>1.500000</td>\n",
       "      <td>1.000000</td>\n",
       "    </tr>\n",
       "    <tr>\n",
       "      <th>max</th>\n",
       "      <td>76.000000</td>\n",
       "      <td>160.000000</td>\n",
       "      <td>159.000000</td>\n",
       "      <td>1.000000</td>\n",
       "      <td>185.000000</td>\n",
       "      <td>3.500000</td>\n",
       "      <td>1.000000</td>\n",
       "    </tr>\n",
       "  </tbody>\n",
       "</table>\n",
       "</div>"
      ],
      "text/plain": [
       "             Age   RestingBP  Cholesterol  FastingBS       MaxHR    Oldpeak  \\\n",
       "count  25.000000   25.000000    25.000000  25.000000   25.000000  25.000000   \n",
       "mean   53.120000  130.520000   132.880000   0.200000  136.120000   0.808000   \n",
       "std    12.434227   18.681809    19.946428   0.408248   26.459592   0.931361   \n",
       "min    28.000000   92.000000    85.000000   0.000000   94.000000   0.000000   \n",
       "25%    44.000000  120.000000   123.000000   0.000000  120.000000   0.000000   \n",
       "50%    52.000000  131.000000   139.000000   0.000000  130.000000   0.600000   \n",
       "75%    62.000000  140.000000   149.000000   0.000000  146.000000   1.500000   \n",
       "max    76.000000  160.000000   159.000000   1.000000  185.000000   3.500000   \n",
       "\n",
       "       HeartDisease  \n",
       "count     25.000000  \n",
       "mean       0.520000  \n",
       "std        0.509902  \n",
       "min        0.000000  \n",
       "25%        0.000000  \n",
       "50%        1.000000  \n",
       "75%        1.000000  \n",
       "max        1.000000  "
      ]
     },
     "execution_count": 5,
     "metadata": {},
     "output_type": "execute_result"
    }
   ],
   "source": [
    "heart_disease_base.loc[(heart_disease_base['Cholesterol'] < 160) & (heart_disease_base['Cholesterol'] > 0)].describe()"
   ]
  },
  {
   "cell_type": "markdown",
   "id": "ceccb8d0",
   "metadata": {
    "papermill": {
     "duration": 0.034222,
     "end_time": "2022-06-04T14:36:05.536829",
     "exception": false,
     "start_time": "2022-06-04T14:36:05.502607",
     "status": "completed"
    },
    "tags": []
   },
   "source": [
    "As with the hypotensive observations, the hypocholesterolemic obervations appear to be largely unremarkable leaving aside their unusual blood cholesterol levels. Therefore, we can simply focus on the observations where either blood pressure or cholesterol is zero for data imputing. In the former case, simply imputing the mean value of blood pressure is a reasonable strategy that should not greatly affect our results, as there is only the one observation, but in the latter the large proportion of observations compared to the whole dataset means that there could be a bias introduced by this approach. However, experimenting with different methods of dealing with missing data is beyond the scope of this work, and so is only mentioned in case there is interest in follow up work. First, we will add a column identifying imputed cholesterol values in the form of a boolean (\"True\" means there was an imputation, \"False\" means that there was not):"
   ]
  },
  {
   "cell_type": "code",
   "execution_count": 6,
   "id": "45152972",
   "metadata": {
    "execution": {
     "iopub.execute_input": "2022-06-04T14:36:05.613958Z",
     "iopub.status.busy": "2022-06-04T14:36:05.613259Z",
     "iopub.status.idle": "2022-06-04T14:36:05.621614Z",
     "shell.execute_reply": "2022-06-04T14:36:05.622258Z",
     "shell.execute_reply.started": "2022-02-25T21:07:34.334694Z"
    },
    "papermill": {
     "duration": 0.051287,
     "end_time": "2022-06-04T14:36:05.622445",
     "exception": false,
     "start_time": "2022-06-04T14:36:05.571158",
     "status": "completed"
    },
    "tags": []
   },
   "outputs": [
    {
     "name": "stdout",
     "output_type": "stream",
     "text": [
      "There are 0 observations with zero blood cholesterol that have a False value for invalid_cholesterol.\n",
      "There are 0 observations with non-zero blood cholesterol that have a True value for invalid_cholesterol.\n"
     ]
    }
   ],
   "source": [
    "# We want to keep a pristine copy of the base dataset.\n",
    "heart_disease_cleaned = heart_disease_base.copy()\n",
    "\n",
    "heart_disease_cleaned['invalid_cholesterol'] = False\n",
    "heart_disease_cleaned.loc[heart_disease_cleaned.Cholesterol == 0, 'invalid_cholesterol'] = True\n",
    "\n",
    "zero_ch = heart_disease_cleaned.loc[heart_disease_cleaned.Cholesterol == 0]\n",
    "non_zero_ch = heart_disease_cleaned.loc[heart_disease_cleaned.Cholesterol > 0]\n",
    "\n",
    "num_zero_false = len(zero_ch['invalid_cholesterol']) - zero_ch['invalid_cholesterol'].sum()\n",
    "num_non_zero_true = non_zero_ch['invalid_cholesterol'].sum()\n",
    "\n",
    "print('There are {} observations with zero blood cholesterol that have a False value for invalid_cholesterol.'.format(num_zero_false))\n",
    "print('There are {} observations with non-zero blood cholesterol that have a True value for invalid_cholesterol.'.format(num_non_zero_true))"
   ]
  },
  {
   "cell_type": "markdown",
   "id": "41dffb3d",
   "metadata": {
    "papermill": {
     "duration": 0.034021,
     "end_time": "2022-06-04T14:36:05.691085",
     "exception": false,
     "start_time": "2022-06-04T14:36:05.657064",
     "status": "completed"
    },
    "tags": []
   },
   "source": [
    "Next we will calculate the mean blood pressure and mean cholesterol excluding the zero value observations, then impute those into the observations that have zero value."
   ]
  },
  {
   "cell_type": "code",
   "execution_count": 7,
   "id": "13d3d3ce",
   "metadata": {
    "execution": {
     "iopub.execute_input": "2022-06-04T14:36:05.772246Z",
     "iopub.status.busy": "2022-06-04T14:36:05.771072Z",
     "iopub.status.idle": "2022-06-04T14:36:05.775192Z",
     "shell.execute_reply": "2022-06-04T14:36:05.775752Z",
     "shell.execute_reply.started": "2022-02-25T21:07:34.348959Z"
    },
    "papermill": {
     "duration": 0.050667,
     "end_time": "2022-06-04T14:36:05.775964",
     "exception": false,
     "start_time": "2022-06-04T14:36:05.725297",
     "status": "completed"
    },
    "tags": []
   },
   "outputs": [
    {
     "name": "stdout",
     "output_type": "stream",
     "text": [
      "The pre-imputation value of the mean blood cholesterol (excluding zero values) was 244.6353887399464,and the post-imputation value was 244.63538873994625.\n",
      "The pre-imputation value of the mean blood pressure (excluding zero values) was 132.54089422028352, and the post-imputation value was 132.54089422028355.\n"
     ]
    }
   ],
   "source": [
    "cholesterol_mean = heart_disease_cleaned.loc[heart_disease_cleaned.invalid_cholesterol == False, 'Cholesterol'].mean()\n",
    "heart_disease_cleaned.loc[heart_disease_cleaned.invalid_cholesterol == True, 'Cholesterol'] = cholesterol_mean\n",
    "\n",
    "bp_mean = heart_disease_cleaned.loc[heart_disease_cleaned.RestingBP != 0, 'RestingBP'].mean()\n",
    "heart_disease_cleaned.loc[heart_disease_cleaned.RestingBP == 0, 'RestingBP'] = bp_mean\n",
    "\n",
    "cholesterol_template = \"The pre-imputation value of the mean blood cholesterol (excluding zero values) was {},and the post-imputation value was {}.\"\n",
    "bp_template = \"The pre-imputation value of the mean blood pressure (excluding zero values) was {}, and the post-imputation value was {}.\"\n",
    "\n",
    "print(cholesterol_template.format(cholesterol_mean, heart_disease_cleaned['Cholesterol'].mean()))\n",
    "print(bp_template.format(bp_mean, heart_disease_cleaned['RestingBP'].mean()))"
   ]
  },
  {
   "cell_type": "markdown",
   "id": "3a5ae194",
   "metadata": {
    "papermill": {
     "duration": 0.035647,
     "end_time": "2022-06-04T14:36:05.847198",
     "exception": false,
     "start_time": "2022-06-04T14:36:05.811551",
     "status": "completed"
    },
    "tags": []
   },
   "source": [
    "And a quick inspection of the cells that had a zero value shows that they are now filled by the mean value:"
   ]
  },
  {
   "cell_type": "code",
   "execution_count": 8,
   "id": "2246a011",
   "metadata": {
    "execution": {
     "iopub.execute_input": "2022-06-04T14:36:05.925078Z",
     "iopub.status.busy": "2022-06-04T14:36:05.921427Z",
     "iopub.status.idle": "2022-06-04T14:36:05.940510Z",
     "shell.execute_reply": "2022-06-04T14:36:05.941079Z",
     "shell.execute_reply.started": "2022-02-25T21:07:34.365118Z"
    },
    "papermill": {
     "duration": 0.058723,
     "end_time": "2022-06-04T14:36:05.941256",
     "exception": false,
     "start_time": "2022-06-04T14:36:05.882533",
     "status": "completed"
    },
    "tags": []
   },
   "outputs": [
    {
     "data": {
      "text/html": [
       "<div>\n",
       "<style scoped>\n",
       "    .dataframe tbody tr th:only-of-type {\n",
       "        vertical-align: middle;\n",
       "    }\n",
       "\n",
       "    .dataframe tbody tr th {\n",
       "        vertical-align: top;\n",
       "    }\n",
       "\n",
       "    .dataframe thead th {\n",
       "        text-align: right;\n",
       "    }\n",
       "</style>\n",
       "<table border=\"1\" class=\"dataframe\">\n",
       "  <thead>\n",
       "    <tr style=\"text-align: right;\">\n",
       "      <th></th>\n",
       "      <th>Age</th>\n",
       "      <th>Sex</th>\n",
       "      <th>ChestPainType</th>\n",
       "      <th>RestingBP</th>\n",
       "      <th>Cholesterol</th>\n",
       "      <th>FastingBS</th>\n",
       "      <th>RestingECG</th>\n",
       "      <th>MaxHR</th>\n",
       "      <th>ExerciseAngina</th>\n",
       "      <th>Oldpeak</th>\n",
       "      <th>ST_Slope</th>\n",
       "      <th>HeartDisease</th>\n",
       "      <th>invalid_cholesterol</th>\n",
       "    </tr>\n",
       "  </thead>\n",
       "  <tbody>\n",
       "    <tr>\n",
       "      <th>293</th>\n",
       "      <td>65</td>\n",
       "      <td>M</td>\n",
       "      <td>ASY</td>\n",
       "      <td>115.0</td>\n",
       "      <td>244.635389</td>\n",
       "      <td>0</td>\n",
       "      <td>Normal</td>\n",
       "      <td>93</td>\n",
       "      <td>Y</td>\n",
       "      <td>0.0</td>\n",
       "      <td>Flat</td>\n",
       "      <td>1</td>\n",
       "      <td>True</td>\n",
       "    </tr>\n",
       "    <tr>\n",
       "      <th>294</th>\n",
       "      <td>32</td>\n",
       "      <td>M</td>\n",
       "      <td>TA</td>\n",
       "      <td>95.0</td>\n",
       "      <td>244.635389</td>\n",
       "      <td>1</td>\n",
       "      <td>Normal</td>\n",
       "      <td>127</td>\n",
       "      <td>N</td>\n",
       "      <td>0.7</td>\n",
       "      <td>Up</td>\n",
       "      <td>1</td>\n",
       "      <td>True</td>\n",
       "    </tr>\n",
       "    <tr>\n",
       "      <th>295</th>\n",
       "      <td>61</td>\n",
       "      <td>M</td>\n",
       "      <td>ASY</td>\n",
       "      <td>105.0</td>\n",
       "      <td>244.635389</td>\n",
       "      <td>1</td>\n",
       "      <td>Normal</td>\n",
       "      <td>110</td>\n",
       "      <td>Y</td>\n",
       "      <td>1.5</td>\n",
       "      <td>Up</td>\n",
       "      <td>1</td>\n",
       "      <td>True</td>\n",
       "    </tr>\n",
       "    <tr>\n",
       "      <th>296</th>\n",
       "      <td>50</td>\n",
       "      <td>M</td>\n",
       "      <td>ASY</td>\n",
       "      <td>145.0</td>\n",
       "      <td>244.635389</td>\n",
       "      <td>1</td>\n",
       "      <td>Normal</td>\n",
       "      <td>139</td>\n",
       "      <td>Y</td>\n",
       "      <td>0.7</td>\n",
       "      <td>Flat</td>\n",
       "      <td>1</td>\n",
       "      <td>True</td>\n",
       "    </tr>\n",
       "    <tr>\n",
       "      <th>297</th>\n",
       "      <td>57</td>\n",
       "      <td>M</td>\n",
       "      <td>ASY</td>\n",
       "      <td>110.0</td>\n",
       "      <td>244.635389</td>\n",
       "      <td>1</td>\n",
       "      <td>ST</td>\n",
       "      <td>131</td>\n",
       "      <td>Y</td>\n",
       "      <td>1.4</td>\n",
       "      <td>Up</td>\n",
       "      <td>1</td>\n",
       "      <td>True</td>\n",
       "    </tr>\n",
       "  </tbody>\n",
       "</table>\n",
       "</div>"
      ],
      "text/plain": [
       "     Age Sex ChestPainType  RestingBP  Cholesterol  FastingBS RestingECG  \\\n",
       "293   65   M           ASY      115.0   244.635389          0     Normal   \n",
       "294   32   M            TA       95.0   244.635389          1     Normal   \n",
       "295   61   M           ASY      105.0   244.635389          1     Normal   \n",
       "296   50   M           ASY      145.0   244.635389          1     Normal   \n",
       "297   57   M           ASY      110.0   244.635389          1         ST   \n",
       "\n",
       "     MaxHR ExerciseAngina  Oldpeak ST_Slope  HeartDisease  invalid_cholesterol  \n",
       "293     93              Y      0.0     Flat             1                 True  \n",
       "294    127              N      0.7       Up             1                 True  \n",
       "295    110              Y      1.5       Up             1                 True  \n",
       "296    139              Y      0.7     Flat             1                 True  \n",
       "297    131              Y      1.4       Up             1                 True  "
      ]
     },
     "execution_count": 8,
     "metadata": {},
     "output_type": "execute_result"
    }
   ],
   "source": [
    "heart_disease_cleaned[heart_disease_cleaned['invalid_cholesterol'] == True].head()"
   ]
  },
  {
   "cell_type": "markdown",
   "id": "90f4df13",
   "metadata": {
    "papermill": {
     "duration": 0.035344,
     "end_time": "2022-06-04T14:36:06.012076",
     "exception": false,
     "start_time": "2022-06-04T14:36:05.976732",
     "status": "completed"
    },
    "tags": []
   },
   "source": [
    "Besides imputing this data, the dataset also includes several columns that store boolean data according to the documentation, but do so without using the boolean type. For FastingBS, a '0' is used to indicate a fasting blood sugar level below 120 mg/dL and a '1' is used to indicate a greater level; for ExerciseAngina a 'Y' is used to indicate that angina (chest pain) was observed during exercise; and for HeartDisease, '0' is used to indicate that heart disease was not found and '1' to indicate that it was. All of these can quickly be converted to booleans. First, look at the current head:"
   ]
  },
  {
   "cell_type": "code",
   "execution_count": 9,
   "id": "0f92a59c",
   "metadata": {
    "execution": {
     "iopub.execute_input": "2022-06-04T14:36:06.086033Z",
     "iopub.status.busy": "2022-06-04T14:36:06.085397Z",
     "iopub.status.idle": "2022-06-04T14:36:06.102179Z",
     "shell.execute_reply": "2022-06-04T14:36:06.102703Z",
     "shell.execute_reply.started": "2022-02-25T21:07:34.387855Z"
    },
    "papermill": {
     "duration": 0.055372,
     "end_time": "2022-06-04T14:36:06.102876",
     "exception": false,
     "start_time": "2022-06-04T14:36:06.047504",
     "status": "completed"
    },
    "tags": []
   },
   "outputs": [
    {
     "data": {
      "text/html": [
       "<div>\n",
       "<style scoped>\n",
       "    .dataframe tbody tr th:only-of-type {\n",
       "        vertical-align: middle;\n",
       "    }\n",
       "\n",
       "    .dataframe tbody tr th {\n",
       "        vertical-align: top;\n",
       "    }\n",
       "\n",
       "    .dataframe thead th {\n",
       "        text-align: right;\n",
       "    }\n",
       "</style>\n",
       "<table border=\"1\" class=\"dataframe\">\n",
       "  <thead>\n",
       "    <tr style=\"text-align: right;\">\n",
       "      <th></th>\n",
       "      <th>Age</th>\n",
       "      <th>Sex</th>\n",
       "      <th>ChestPainType</th>\n",
       "      <th>RestingBP</th>\n",
       "      <th>Cholesterol</th>\n",
       "      <th>FastingBS</th>\n",
       "      <th>RestingECG</th>\n",
       "      <th>MaxHR</th>\n",
       "      <th>ExerciseAngina</th>\n",
       "      <th>Oldpeak</th>\n",
       "      <th>ST_Slope</th>\n",
       "      <th>HeartDisease</th>\n",
       "      <th>invalid_cholesterol</th>\n",
       "    </tr>\n",
       "  </thead>\n",
       "  <tbody>\n",
       "    <tr>\n",
       "      <th>0</th>\n",
       "      <td>40</td>\n",
       "      <td>M</td>\n",
       "      <td>ATA</td>\n",
       "      <td>140.0</td>\n",
       "      <td>289.0</td>\n",
       "      <td>0</td>\n",
       "      <td>Normal</td>\n",
       "      <td>172</td>\n",
       "      <td>N</td>\n",
       "      <td>0.0</td>\n",
       "      <td>Up</td>\n",
       "      <td>0</td>\n",
       "      <td>False</td>\n",
       "    </tr>\n",
       "    <tr>\n",
       "      <th>1</th>\n",
       "      <td>49</td>\n",
       "      <td>F</td>\n",
       "      <td>NAP</td>\n",
       "      <td>160.0</td>\n",
       "      <td>180.0</td>\n",
       "      <td>0</td>\n",
       "      <td>Normal</td>\n",
       "      <td>156</td>\n",
       "      <td>N</td>\n",
       "      <td>1.0</td>\n",
       "      <td>Flat</td>\n",
       "      <td>1</td>\n",
       "      <td>False</td>\n",
       "    </tr>\n",
       "    <tr>\n",
       "      <th>2</th>\n",
       "      <td>37</td>\n",
       "      <td>M</td>\n",
       "      <td>ATA</td>\n",
       "      <td>130.0</td>\n",
       "      <td>283.0</td>\n",
       "      <td>0</td>\n",
       "      <td>ST</td>\n",
       "      <td>98</td>\n",
       "      <td>N</td>\n",
       "      <td>0.0</td>\n",
       "      <td>Up</td>\n",
       "      <td>0</td>\n",
       "      <td>False</td>\n",
       "    </tr>\n",
       "    <tr>\n",
       "      <th>3</th>\n",
       "      <td>48</td>\n",
       "      <td>F</td>\n",
       "      <td>ASY</td>\n",
       "      <td>138.0</td>\n",
       "      <td>214.0</td>\n",
       "      <td>0</td>\n",
       "      <td>Normal</td>\n",
       "      <td>108</td>\n",
       "      <td>Y</td>\n",
       "      <td>1.5</td>\n",
       "      <td>Flat</td>\n",
       "      <td>1</td>\n",
       "      <td>False</td>\n",
       "    </tr>\n",
       "    <tr>\n",
       "      <th>4</th>\n",
       "      <td>54</td>\n",
       "      <td>M</td>\n",
       "      <td>NAP</td>\n",
       "      <td>150.0</td>\n",
       "      <td>195.0</td>\n",
       "      <td>0</td>\n",
       "      <td>Normal</td>\n",
       "      <td>122</td>\n",
       "      <td>N</td>\n",
       "      <td>0.0</td>\n",
       "      <td>Up</td>\n",
       "      <td>0</td>\n",
       "      <td>False</td>\n",
       "    </tr>\n",
       "  </tbody>\n",
       "</table>\n",
       "</div>"
      ],
      "text/plain": [
       "   Age Sex ChestPainType  RestingBP  Cholesterol  FastingBS RestingECG  MaxHR  \\\n",
       "0   40   M           ATA      140.0        289.0          0     Normal    172   \n",
       "1   49   F           NAP      160.0        180.0          0     Normal    156   \n",
       "2   37   M           ATA      130.0        283.0          0         ST     98   \n",
       "3   48   F           ASY      138.0        214.0          0     Normal    108   \n",
       "4   54   M           NAP      150.0        195.0          0     Normal    122   \n",
       "\n",
       "  ExerciseAngina  Oldpeak ST_Slope  HeartDisease  invalid_cholesterol  \n",
       "0              N      0.0       Up             0                False  \n",
       "1              N      1.0     Flat             1                False  \n",
       "2              N      0.0       Up             0                False  \n",
       "3              Y      1.5     Flat             1                False  \n",
       "4              N      0.0       Up             0                False  "
      ]
     },
     "execution_count": 9,
     "metadata": {},
     "output_type": "execute_result"
    }
   ],
   "source": [
    "heart_disease_cleaned.head()"
   ]
  },
  {
   "cell_type": "markdown",
   "id": "ec546ee5",
   "metadata": {
    "papermill": {
     "duration": 0.035624,
     "end_time": "2022-06-04T14:36:06.174530",
     "exception": false,
     "start_time": "2022-06-04T14:36:06.138906",
     "status": "completed"
    },
    "tags": []
   },
   "source": [
    "Then, convert the variables to booleans and verify that they correspond properly:"
   ]
  },
  {
   "cell_type": "code",
   "execution_count": 10,
   "id": "09cffca7",
   "metadata": {
    "execution": {
     "iopub.execute_input": "2022-06-04T14:36:06.255301Z",
     "iopub.status.busy": "2022-06-04T14:36:06.254630Z",
     "iopub.status.idle": "2022-06-04T14:36:06.271823Z",
     "shell.execute_reply": "2022-06-04T14:36:06.272356Z",
     "shell.execute_reply.started": "2022-02-25T21:07:34.409437Z"
    },
    "papermill": {
     "duration": 0.062246,
     "end_time": "2022-06-04T14:36:06.272525",
     "exception": false,
     "start_time": "2022-06-04T14:36:06.210279",
     "status": "completed"
    },
    "tags": []
   },
   "outputs": [
    {
     "data": {
      "text/html": [
       "<div>\n",
       "<style scoped>\n",
       "    .dataframe tbody tr th:only-of-type {\n",
       "        vertical-align: middle;\n",
       "    }\n",
       "\n",
       "    .dataframe tbody tr th {\n",
       "        vertical-align: top;\n",
       "    }\n",
       "\n",
       "    .dataframe thead th {\n",
       "        text-align: right;\n",
       "    }\n",
       "</style>\n",
       "<table border=\"1\" class=\"dataframe\">\n",
       "  <thead>\n",
       "    <tr style=\"text-align: right;\">\n",
       "      <th></th>\n",
       "      <th>Age</th>\n",
       "      <th>Sex</th>\n",
       "      <th>ChestPainType</th>\n",
       "      <th>RestingBP</th>\n",
       "      <th>Cholesterol</th>\n",
       "      <th>FastingBS</th>\n",
       "      <th>RestingECG</th>\n",
       "      <th>MaxHR</th>\n",
       "      <th>ExerciseAngina</th>\n",
       "      <th>Oldpeak</th>\n",
       "      <th>ST_Slope</th>\n",
       "      <th>HeartDisease</th>\n",
       "      <th>invalid_cholesterol</th>\n",
       "    </tr>\n",
       "  </thead>\n",
       "  <tbody>\n",
       "    <tr>\n",
       "      <th>0</th>\n",
       "      <td>40</td>\n",
       "      <td>M</td>\n",
       "      <td>ATA</td>\n",
       "      <td>140.0</td>\n",
       "      <td>289.0</td>\n",
       "      <td>False</td>\n",
       "      <td>Normal</td>\n",
       "      <td>172</td>\n",
       "      <td>False</td>\n",
       "      <td>0.0</td>\n",
       "      <td>Up</td>\n",
       "      <td>False</td>\n",
       "      <td>False</td>\n",
       "    </tr>\n",
       "    <tr>\n",
       "      <th>1</th>\n",
       "      <td>49</td>\n",
       "      <td>F</td>\n",
       "      <td>NAP</td>\n",
       "      <td>160.0</td>\n",
       "      <td>180.0</td>\n",
       "      <td>False</td>\n",
       "      <td>Normal</td>\n",
       "      <td>156</td>\n",
       "      <td>False</td>\n",
       "      <td>1.0</td>\n",
       "      <td>Flat</td>\n",
       "      <td>True</td>\n",
       "      <td>False</td>\n",
       "    </tr>\n",
       "    <tr>\n",
       "      <th>2</th>\n",
       "      <td>37</td>\n",
       "      <td>M</td>\n",
       "      <td>ATA</td>\n",
       "      <td>130.0</td>\n",
       "      <td>283.0</td>\n",
       "      <td>False</td>\n",
       "      <td>ST</td>\n",
       "      <td>98</td>\n",
       "      <td>False</td>\n",
       "      <td>0.0</td>\n",
       "      <td>Up</td>\n",
       "      <td>False</td>\n",
       "      <td>False</td>\n",
       "    </tr>\n",
       "    <tr>\n",
       "      <th>3</th>\n",
       "      <td>48</td>\n",
       "      <td>F</td>\n",
       "      <td>ASY</td>\n",
       "      <td>138.0</td>\n",
       "      <td>214.0</td>\n",
       "      <td>False</td>\n",
       "      <td>Normal</td>\n",
       "      <td>108</td>\n",
       "      <td>True</td>\n",
       "      <td>1.5</td>\n",
       "      <td>Flat</td>\n",
       "      <td>True</td>\n",
       "      <td>False</td>\n",
       "    </tr>\n",
       "    <tr>\n",
       "      <th>4</th>\n",
       "      <td>54</td>\n",
       "      <td>M</td>\n",
       "      <td>NAP</td>\n",
       "      <td>150.0</td>\n",
       "      <td>195.0</td>\n",
       "      <td>False</td>\n",
       "      <td>Normal</td>\n",
       "      <td>122</td>\n",
       "      <td>False</td>\n",
       "      <td>0.0</td>\n",
       "      <td>Up</td>\n",
       "      <td>False</td>\n",
       "      <td>False</td>\n",
       "    </tr>\n",
       "  </tbody>\n",
       "</table>\n",
       "</div>"
      ],
      "text/plain": [
       "   Age Sex ChestPainType  RestingBP  Cholesterol  FastingBS RestingECG  MaxHR  \\\n",
       "0   40   M           ATA      140.0        289.0      False     Normal    172   \n",
       "1   49   F           NAP      160.0        180.0      False     Normal    156   \n",
       "2   37   M           ATA      130.0        283.0      False         ST     98   \n",
       "3   48   F           ASY      138.0        214.0      False     Normal    108   \n",
       "4   54   M           NAP      150.0        195.0      False     Normal    122   \n",
       "\n",
       "   ExerciseAngina  Oldpeak ST_Slope  HeartDisease  invalid_cholesterol  \n",
       "0           False      0.0       Up         False                False  \n",
       "1           False      1.0     Flat          True                False  \n",
       "2           False      0.0       Up         False                False  \n",
       "3            True      1.5     Flat          True                False  \n",
       "4           False      0.0       Up         False                False  "
      ]
     },
     "execution_count": 10,
     "metadata": {},
     "output_type": "execute_result"
    }
   ],
   "source": [
    "heart_disease_cleaned['FastingBS'] = heart_disease_cleaned['FastingBS'].astype(bool)\n",
    "heart_disease_cleaned['ExerciseAngina'] = heart_disease_cleaned['ExerciseAngina'].map({'Y': True, 'N': False})\n",
    "heart_disease_cleaned['HeartDisease'] = heart_disease_cleaned['HeartDisease'].astype(bool)\n",
    "\n",
    "heart_disease_cleaned.head()"
   ]
  },
  {
   "cell_type": "markdown",
   "id": "1fe90ce8",
   "metadata": {
    "papermill": {
     "duration": 0.036457,
     "end_time": "2022-06-04T14:36:06.345478",
     "exception": false,
     "start_time": "2022-06-04T14:36:06.309021",
     "status": "completed"
    },
    "tags": []
   },
   "source": [
    "The next issue that needs to be handled is the categorical information present in the Sex, ChestPainType, RestingECG, and and ST_Slope variables. Each of these is stored as a string holding a limited range of possible values, which many classification models cannot properly engage with. A more useful way of encoding this information would be to create new columns corresponding to each of the possibile categorical values and then assign a True or False value itself corresponding to the original category of the observation, which is called \"one hot\" encoding. For example, a patient with a ChestPainType of ATA, Atypical Angina, would have a True value in that column and a False value in the columns corresponding to TA, NAP, and ASY (the other possible values). We can quickly convert these as well, then check that the output is fine."
   ]
  },
  {
   "cell_type": "code",
   "execution_count": 11,
   "id": "b4003940",
   "metadata": {
    "execution": {
     "iopub.execute_input": "2022-06-04T14:36:06.421224Z",
     "iopub.status.busy": "2022-06-04T14:36:06.420574Z",
     "iopub.status.idle": "2022-06-04T14:36:06.469091Z",
     "shell.execute_reply": "2022-06-04T14:36:06.468517Z",
     "shell.execute_reply.started": "2022-02-25T21:07:34.434369Z"
    },
    "papermill": {
     "duration": 0.087497,
     "end_time": "2022-06-04T14:36:06.469272",
     "exception": false,
     "start_time": "2022-06-04T14:36:06.381775",
     "status": "completed"
    },
    "tags": []
   },
   "outputs": [
    {
     "data": {
      "text/html": [
       "<div>\n",
       "<style scoped>\n",
       "    .dataframe tbody tr th:only-of-type {\n",
       "        vertical-align: middle;\n",
       "    }\n",
       "\n",
       "    .dataframe tbody tr th {\n",
       "        vertical-align: top;\n",
       "    }\n",
       "\n",
       "    .dataframe thead th {\n",
       "        text-align: right;\n",
       "    }\n",
       "</style>\n",
       "<table border=\"1\" class=\"dataframe\">\n",
       "  <thead>\n",
       "    <tr style=\"text-align: right;\">\n",
       "      <th></th>\n",
       "      <th>Age</th>\n",
       "      <th>Sex</th>\n",
       "      <th>ChestPainType</th>\n",
       "      <th>RestingBP</th>\n",
       "      <th>Cholesterol</th>\n",
       "      <th>FastingBS</th>\n",
       "      <th>RestingECG</th>\n",
       "      <th>MaxHR</th>\n",
       "      <th>ExerciseAngina</th>\n",
       "      <th>Oldpeak</th>\n",
       "      <th>...</th>\n",
       "      <th>ta_chest_pain</th>\n",
       "      <th>ata_chest_pain</th>\n",
       "      <th>nap_chest_pain</th>\n",
       "      <th>asy_chest_pain</th>\n",
       "      <th>normal_ecg</th>\n",
       "      <th>st_ecg</th>\n",
       "      <th>lvh_ecg</th>\n",
       "      <th>up_st</th>\n",
       "      <th>flat_st</th>\n",
       "      <th>down_st</th>\n",
       "    </tr>\n",
       "  </thead>\n",
       "  <tbody>\n",
       "    <tr>\n",
       "      <th>0</th>\n",
       "      <td>40</td>\n",
       "      <td>M</td>\n",
       "      <td>ATA</td>\n",
       "      <td>140.0</td>\n",
       "      <td>289.0</td>\n",
       "      <td>False</td>\n",
       "      <td>Normal</td>\n",
       "      <td>172</td>\n",
       "      <td>False</td>\n",
       "      <td>0.0</td>\n",
       "      <td>...</td>\n",
       "      <td>False</td>\n",
       "      <td>True</td>\n",
       "      <td>False</td>\n",
       "      <td>False</td>\n",
       "      <td>True</td>\n",
       "      <td>False</td>\n",
       "      <td>False</td>\n",
       "      <td>True</td>\n",
       "      <td>False</td>\n",
       "      <td>False</td>\n",
       "    </tr>\n",
       "    <tr>\n",
       "      <th>1</th>\n",
       "      <td>49</td>\n",
       "      <td>F</td>\n",
       "      <td>NAP</td>\n",
       "      <td>160.0</td>\n",
       "      <td>180.0</td>\n",
       "      <td>False</td>\n",
       "      <td>Normal</td>\n",
       "      <td>156</td>\n",
       "      <td>False</td>\n",
       "      <td>1.0</td>\n",
       "      <td>...</td>\n",
       "      <td>False</td>\n",
       "      <td>False</td>\n",
       "      <td>True</td>\n",
       "      <td>False</td>\n",
       "      <td>True</td>\n",
       "      <td>False</td>\n",
       "      <td>False</td>\n",
       "      <td>False</td>\n",
       "      <td>True</td>\n",
       "      <td>False</td>\n",
       "    </tr>\n",
       "    <tr>\n",
       "      <th>2</th>\n",
       "      <td>37</td>\n",
       "      <td>M</td>\n",
       "      <td>ATA</td>\n",
       "      <td>130.0</td>\n",
       "      <td>283.0</td>\n",
       "      <td>False</td>\n",
       "      <td>ST</td>\n",
       "      <td>98</td>\n",
       "      <td>False</td>\n",
       "      <td>0.0</td>\n",
       "      <td>...</td>\n",
       "      <td>False</td>\n",
       "      <td>True</td>\n",
       "      <td>False</td>\n",
       "      <td>False</td>\n",
       "      <td>False</td>\n",
       "      <td>True</td>\n",
       "      <td>False</td>\n",
       "      <td>True</td>\n",
       "      <td>False</td>\n",
       "      <td>False</td>\n",
       "    </tr>\n",
       "    <tr>\n",
       "      <th>3</th>\n",
       "      <td>48</td>\n",
       "      <td>F</td>\n",
       "      <td>ASY</td>\n",
       "      <td>138.0</td>\n",
       "      <td>214.0</td>\n",
       "      <td>False</td>\n",
       "      <td>Normal</td>\n",
       "      <td>108</td>\n",
       "      <td>True</td>\n",
       "      <td>1.5</td>\n",
       "      <td>...</td>\n",
       "      <td>False</td>\n",
       "      <td>False</td>\n",
       "      <td>False</td>\n",
       "      <td>True</td>\n",
       "      <td>True</td>\n",
       "      <td>False</td>\n",
       "      <td>False</td>\n",
       "      <td>False</td>\n",
       "      <td>True</td>\n",
       "      <td>False</td>\n",
       "    </tr>\n",
       "    <tr>\n",
       "      <th>4</th>\n",
       "      <td>54</td>\n",
       "      <td>M</td>\n",
       "      <td>NAP</td>\n",
       "      <td>150.0</td>\n",
       "      <td>195.0</td>\n",
       "      <td>False</td>\n",
       "      <td>Normal</td>\n",
       "      <td>122</td>\n",
       "      <td>False</td>\n",
       "      <td>0.0</td>\n",
       "      <td>...</td>\n",
       "      <td>False</td>\n",
       "      <td>False</td>\n",
       "      <td>True</td>\n",
       "      <td>False</td>\n",
       "      <td>True</td>\n",
       "      <td>False</td>\n",
       "      <td>False</td>\n",
       "      <td>True</td>\n",
       "      <td>False</td>\n",
       "      <td>False</td>\n",
       "    </tr>\n",
       "  </tbody>\n",
       "</table>\n",
       "<p>5 rows × 25 columns</p>\n",
       "</div>"
      ],
      "text/plain": [
       "   Age Sex ChestPainType  RestingBP  Cholesterol  FastingBS RestingECG  MaxHR  \\\n",
       "0   40   M           ATA      140.0        289.0      False     Normal    172   \n",
       "1   49   F           NAP      160.0        180.0      False     Normal    156   \n",
       "2   37   M           ATA      130.0        283.0      False         ST     98   \n",
       "3   48   F           ASY      138.0        214.0      False     Normal    108   \n",
       "4   54   M           NAP      150.0        195.0      False     Normal    122   \n",
       "\n",
       "   ExerciseAngina  Oldpeak  ... ta_chest_pain  ata_chest_pain  nap_chest_pain  \\\n",
       "0           False      0.0  ...         False            True           False   \n",
       "1           False      1.0  ...         False           False            True   \n",
       "2           False      0.0  ...         False            True           False   \n",
       "3            True      1.5  ...         False           False           False   \n",
       "4           False      0.0  ...         False           False            True   \n",
       "\n",
       "   asy_chest_pain  normal_ecg  st_ecg  lvh_ecg  up_st  flat_st  down_st  \n",
       "0           False        True   False    False   True    False    False  \n",
       "1           False        True   False    False  False     True    False  \n",
       "2           False       False    True    False   True    False    False  \n",
       "3            True        True   False    False  False     True    False  \n",
       "4           False        True   False    False   True    False    False  \n",
       "\n",
       "[5 rows x 25 columns]"
      ]
     },
     "execution_count": 11,
     "metadata": {},
     "output_type": "execute_result"
    }
   ],
   "source": [
    "heart_disease_cleaned['male'] = heart_disease_cleaned['Sex'].map({'M': True, 'F': False})\n",
    "heart_disease_cleaned['female'] = heart_disease_cleaned['Sex'].map({'M': False, 'F': True})\n",
    "\n",
    "heart_disease_cleaned['ta_chest_pain'] = heart_disease_cleaned['ChestPainType'].map({'TA': True, 'ATA': False, 'NAP': False, 'ASY': False})\n",
    "heart_disease_cleaned['ata_chest_pain'] = heart_disease_cleaned['ChestPainType'].map({'TA': False, 'ATA': True, 'NAP': False, 'ASY': False})\n",
    "heart_disease_cleaned['nap_chest_pain'] = heart_disease_cleaned['ChestPainType'].map({'TA': False, 'ATA': False, 'NAP': True, 'ASY': False})\n",
    "heart_disease_cleaned['asy_chest_pain'] = heart_disease_cleaned['ChestPainType'].map({'TA': False, 'ATA': False, 'NAP': False, 'ASY': True})\n",
    "\n",
    "heart_disease_cleaned['normal_ecg'] = heart_disease_cleaned['RestingECG'].map({'Normal': True, 'ST': False, 'LVH': False})\n",
    "heart_disease_cleaned['st_ecg'] = heart_disease_cleaned['RestingECG'].map({'Normal': False, 'ST': True, 'LVH': False})\n",
    "heart_disease_cleaned['lvh_ecg'] = heart_disease_cleaned['RestingECG'].map({'Normal': False, 'ST': False, 'LVH': True})\n",
    "\n",
    "heart_disease_cleaned['up_st'] = heart_disease_cleaned['ST_Slope'].map({'Up': True, 'Flat': False, 'Down': False})\n",
    "heart_disease_cleaned['flat_st'] = heart_disease_cleaned['ST_Slope'].map({'Up': False, 'Flat': True, 'Down': False})\n",
    "heart_disease_cleaned['down_st'] = heart_disease_cleaned['ST_Slope'].map({'Up': False, 'Flat': False, 'Down': True})\n",
    "\n",
    "heart_disease_cleaned.head()"
   ]
  },
  {
   "cell_type": "markdown",
   "id": "4f1ca21e",
   "metadata": {
    "papermill": {
     "duration": 0.037174,
     "end_time": "2022-06-04T14:36:06.543958",
     "exception": false,
     "start_time": "2022-06-04T14:36:06.506784",
     "status": "completed"
    },
    "tags": []
   },
   "source": [
    "That having been done, we can finish up the basic cleaning process by renaming the column names to be consistent with each other and dropping the categorical columns we reencoded in one hot form."
   ]
  },
  {
   "cell_type": "code",
   "execution_count": 12,
   "id": "e594ba4f",
   "metadata": {
    "execution": {
     "iopub.execute_input": "2022-06-04T14:36:06.628639Z",
     "iopub.status.busy": "2022-06-04T14:36:06.627920Z",
     "iopub.status.idle": "2022-06-04T14:36:06.655487Z",
     "shell.execute_reply": "2022-06-04T14:36:06.656069Z",
     "shell.execute_reply.started": "2022-02-25T21:07:34.702026Z"
    },
    "papermill": {
     "duration": 0.073112,
     "end_time": "2022-06-04T14:36:06.656253",
     "exception": false,
     "start_time": "2022-06-04T14:36:06.583141",
     "status": "completed"
    },
    "tags": []
   },
   "outputs": [
    {
     "data": {
      "text/html": [
       "<div>\n",
       "<style scoped>\n",
       "    .dataframe tbody tr th:only-of-type {\n",
       "        vertical-align: middle;\n",
       "    }\n",
       "\n",
       "    .dataframe tbody tr th {\n",
       "        vertical-align: top;\n",
       "    }\n",
       "\n",
       "    .dataframe thead th {\n",
       "        text-align: right;\n",
       "    }\n",
       "</style>\n",
       "<table border=\"1\" class=\"dataframe\">\n",
       "  <thead>\n",
       "    <tr style=\"text-align: right;\">\n",
       "      <th></th>\n",
       "      <th>age</th>\n",
       "      <th>sex</th>\n",
       "      <th>resting_bp</th>\n",
       "      <th>cholesterol</th>\n",
       "      <th>fasting_bs</th>\n",
       "      <th>max_hr</th>\n",
       "      <th>exercise_angina</th>\n",
       "      <th>oldpeak</th>\n",
       "      <th>heart_disease</th>\n",
       "      <th>invalid_cholesterol</th>\n",
       "      <th>...</th>\n",
       "      <th>ta_chest_pain</th>\n",
       "      <th>ata_chest_pain</th>\n",
       "      <th>nap_chest_pain</th>\n",
       "      <th>asy_chest_pain</th>\n",
       "      <th>normal_ecg</th>\n",
       "      <th>st_ecg</th>\n",
       "      <th>lvh_ecg</th>\n",
       "      <th>up_st</th>\n",
       "      <th>flat_st</th>\n",
       "      <th>down_st</th>\n",
       "    </tr>\n",
       "  </thead>\n",
       "  <tbody>\n",
       "    <tr>\n",
       "      <th>0</th>\n",
       "      <td>40</td>\n",
       "      <td>M</td>\n",
       "      <td>140.0</td>\n",
       "      <td>289.0</td>\n",
       "      <td>False</td>\n",
       "      <td>172</td>\n",
       "      <td>False</td>\n",
       "      <td>0.0</td>\n",
       "      <td>False</td>\n",
       "      <td>False</td>\n",
       "      <td>...</td>\n",
       "      <td>False</td>\n",
       "      <td>True</td>\n",
       "      <td>False</td>\n",
       "      <td>False</td>\n",
       "      <td>True</td>\n",
       "      <td>False</td>\n",
       "      <td>False</td>\n",
       "      <td>True</td>\n",
       "      <td>False</td>\n",
       "      <td>False</td>\n",
       "    </tr>\n",
       "    <tr>\n",
       "      <th>1</th>\n",
       "      <td>49</td>\n",
       "      <td>F</td>\n",
       "      <td>160.0</td>\n",
       "      <td>180.0</td>\n",
       "      <td>False</td>\n",
       "      <td>156</td>\n",
       "      <td>False</td>\n",
       "      <td>1.0</td>\n",
       "      <td>True</td>\n",
       "      <td>False</td>\n",
       "      <td>...</td>\n",
       "      <td>False</td>\n",
       "      <td>False</td>\n",
       "      <td>True</td>\n",
       "      <td>False</td>\n",
       "      <td>True</td>\n",
       "      <td>False</td>\n",
       "      <td>False</td>\n",
       "      <td>False</td>\n",
       "      <td>True</td>\n",
       "      <td>False</td>\n",
       "    </tr>\n",
       "    <tr>\n",
       "      <th>2</th>\n",
       "      <td>37</td>\n",
       "      <td>M</td>\n",
       "      <td>130.0</td>\n",
       "      <td>283.0</td>\n",
       "      <td>False</td>\n",
       "      <td>98</td>\n",
       "      <td>False</td>\n",
       "      <td>0.0</td>\n",
       "      <td>False</td>\n",
       "      <td>False</td>\n",
       "      <td>...</td>\n",
       "      <td>False</td>\n",
       "      <td>True</td>\n",
       "      <td>False</td>\n",
       "      <td>False</td>\n",
       "      <td>False</td>\n",
       "      <td>True</td>\n",
       "      <td>False</td>\n",
       "      <td>True</td>\n",
       "      <td>False</td>\n",
       "      <td>False</td>\n",
       "    </tr>\n",
       "    <tr>\n",
       "      <th>3</th>\n",
       "      <td>48</td>\n",
       "      <td>F</td>\n",
       "      <td>138.0</td>\n",
       "      <td>214.0</td>\n",
       "      <td>False</td>\n",
       "      <td>108</td>\n",
       "      <td>True</td>\n",
       "      <td>1.5</td>\n",
       "      <td>True</td>\n",
       "      <td>False</td>\n",
       "      <td>...</td>\n",
       "      <td>False</td>\n",
       "      <td>False</td>\n",
       "      <td>False</td>\n",
       "      <td>True</td>\n",
       "      <td>True</td>\n",
       "      <td>False</td>\n",
       "      <td>False</td>\n",
       "      <td>False</td>\n",
       "      <td>True</td>\n",
       "      <td>False</td>\n",
       "    </tr>\n",
       "    <tr>\n",
       "      <th>4</th>\n",
       "      <td>54</td>\n",
       "      <td>M</td>\n",
       "      <td>150.0</td>\n",
       "      <td>195.0</td>\n",
       "      <td>False</td>\n",
       "      <td>122</td>\n",
       "      <td>False</td>\n",
       "      <td>0.0</td>\n",
       "      <td>False</td>\n",
       "      <td>False</td>\n",
       "      <td>...</td>\n",
       "      <td>False</td>\n",
       "      <td>False</td>\n",
       "      <td>True</td>\n",
       "      <td>False</td>\n",
       "      <td>True</td>\n",
       "      <td>False</td>\n",
       "      <td>False</td>\n",
       "      <td>True</td>\n",
       "      <td>False</td>\n",
       "      <td>False</td>\n",
       "    </tr>\n",
       "  </tbody>\n",
       "</table>\n",
       "<p>5 rows × 22 columns</p>\n",
       "</div>"
      ],
      "text/plain": [
       "   age sex  resting_bp  cholesterol  fasting_bs  max_hr  exercise_angina  \\\n",
       "0   40   M       140.0        289.0       False     172            False   \n",
       "1   49   F       160.0        180.0       False     156            False   \n",
       "2   37   M       130.0        283.0       False      98            False   \n",
       "3   48   F       138.0        214.0       False     108             True   \n",
       "4   54   M       150.0        195.0       False     122            False   \n",
       "\n",
       "   oldpeak  heart_disease  invalid_cholesterol  ...  ta_chest_pain  \\\n",
       "0      0.0          False                False  ...          False   \n",
       "1      1.0           True                False  ...          False   \n",
       "2      0.0          False                False  ...          False   \n",
       "3      1.5           True                False  ...          False   \n",
       "4      0.0          False                False  ...          False   \n",
       "\n",
       "   ata_chest_pain  nap_chest_pain  asy_chest_pain  normal_ecg  st_ecg  \\\n",
       "0            True           False           False        True   False   \n",
       "1           False            True           False        True   False   \n",
       "2            True           False           False       False    True   \n",
       "3           False           False            True        True   False   \n",
       "4           False            True           False        True   False   \n",
       "\n",
       "   lvh_ecg  up_st  flat_st  down_st  \n",
       "0    False   True    False    False  \n",
       "1    False  False     True    False  \n",
       "2    False   True    False    False  \n",
       "3    False  False     True    False  \n",
       "4    False   True    False    False  \n",
       "\n",
       "[5 rows x 22 columns]"
      ]
     },
     "execution_count": 12,
     "metadata": {},
     "output_type": "execute_result"
    }
   ],
   "source": [
    "name_map = {\n",
    "    'Age': 'age',\n",
    "    'Sex': 'sex',\n",
    "    'RestingBP': 'resting_bp',\n",
    "    'Cholesterol': 'cholesterol',\n",
    "    'FastingBS': 'fasting_bs',\n",
    "    'MaxHR': 'max_hr',\n",
    "    'ExerciseAngina': 'exercise_angina',\n",
    "    'Oldpeak': 'oldpeak',\n",
    "    'HeartDisease': 'heart_disease'\n",
    "}\n",
    "\n",
    "heart_disease_cleaned.rename(columns=name_map, inplace=True)\n",
    "\n",
    "heart_disease_cleaned.drop(['ChestPainType'], axis=1, inplace=True)\n",
    "heart_disease_cleaned.drop(['RestingECG'], axis=1, inplace=True)\n",
    "heart_disease_cleaned.drop(['ST_Slope'], axis=1, inplace=True)\n",
    "    \n",
    "heart_disease_cleaned.head()"
   ]
  },
  {
   "cell_type": "markdown",
   "id": "7b3ff342",
   "metadata": {
    "papermill": {
     "duration": 0.037279,
     "end_time": "2022-06-04T14:36:06.732484",
     "exception": false,
     "start_time": "2022-06-04T14:36:06.695205",
     "status": "completed"
    },
    "tags": []
   },
   "source": [
    "Now we can move on to the next step, setting up training and testing sets to run different classifiers on. To select our sets, we will use stratified sampling based on age, since we know independently that age is strongly correlated with heart disease and so if our training or test sets have very different distributions of age than our source set this could cause our models to systematically err. First we look at the distribution of age in our source data:"
   ]
  },
  {
   "cell_type": "code",
   "execution_count": 13,
   "id": "5772be57",
   "metadata": {
    "execution": {
     "iopub.execute_input": "2022-06-04T14:36:06.812610Z",
     "iopub.status.busy": "2022-06-04T14:36:06.811910Z",
     "iopub.status.idle": "2022-06-04T14:36:07.065311Z",
     "shell.execute_reply": "2022-06-04T14:36:07.065840Z",
     "shell.execute_reply.started": "2022-02-25T21:07:34.735369Z"
    },
    "papermill": {
     "duration": 0.295766,
     "end_time": "2022-06-04T14:36:07.066032",
     "exception": false,
     "start_time": "2022-06-04T14:36:06.770266",
     "status": "completed"
    },
    "tags": []
   },
   "outputs": [
    {
     "data": {
      "text/plain": [
       "(array([ 38., 140., 209., 310., 177.,  44.]),\n",
       " array([28.        , 36.16666667, 44.33333333, 52.5       , 60.66666667,\n",
       "        68.83333333, 77.        ]),\n",
       " <BarContainer object of 6 artists>)"
      ]
     },
     "execution_count": 13,
     "metadata": {},
     "output_type": "execute_result"
    },
    {
     "data": {
      "image/png": "[encoded data removed]",
      "text/plain": [
       "<Figure size 432x288 with 1 Axes>"
      ]
     },
     "metadata": {
      "needs_background": "light"
     },
     "output_type": "display_data"
    }
   ],
   "source": [
    "%matplotlib inline\n",
    "import matplotlib.pyplot as plt\n",
    "plt.hist(heart_disease_cleaned['age'], bins=6)"
   ]
  },
  {
   "cell_type": "markdown",
   "id": "17108352",
   "metadata": {
    "papermill": {
     "duration": 0.038666,
     "end_time": "2022-06-04T14:36:07.143241",
     "exception": false,
     "start_time": "2022-06-04T14:36:07.104575",
     "status": "completed"
    },
    "tags": []
   },
   "source": [
    "As expected, this is skewed towards older patients, with younger ones relatively underrepresented. There is a peak in the late 50s and early 60s, with a fairly large proportion in the earlier 50s and late 40s as well. This can be seen more easily if we instead categorize patients by their rounded age (i.e., patients from 25-34 are \"30,\" patients from 35 to 44 are \"40,\" and so on and so forth):"
   ]
  },
  {
   "cell_type": "code",
   "execution_count": 14,
   "id": "02004c41",
   "metadata": {
    "execution": {
     "iopub.execute_input": "2022-06-04T14:36:07.225899Z",
     "iopub.status.busy": "2022-06-04T14:36:07.224894Z",
     "iopub.status.idle": "2022-06-04T14:36:07.444611Z",
     "shell.execute_reply": "2022-06-04T14:36:07.443543Z",
     "shell.execute_reply.started": "2022-02-25T21:07:34.930152Z"
    },
    "papermill": {
     "duration": 0.261918,
     "end_time": "2022-06-04T14:36:07.444772",
     "exception": false,
     "start_time": "2022-06-04T14:36:07.182854",
     "status": "completed"
    },
    "tags": []
   },
   "outputs": [
    {
     "data": {
      "text/plain": [
       "(array([ 21., 175., 275., 365.,  82.]),\n",
       " array([3., 4., 5., 6., 7., 8.]),\n",
       " <BarContainer object of 5 artists>)"
      ]
     },
     "execution_count": 14,
     "metadata": {},
     "output_type": "execute_result"
    },
    {
     "data": {
      "image/png": "[encoded data removed]",
      "text/plain": [
       "<Figure size 432x288 with 1 Axes>"
      ]
     },
     "metadata": {
      "needs_background": "light"
     },
     "output_type": "display_data"
    }
   ],
   "source": [
    "heart_disease_cleaned['age_cat'] = np.round(heart_disease_cleaned['age'] / 10.0)\n",
    "plt.hist(heart_disease_cleaned['age_cat'], bins = 5)"
   ]
  },
  {
   "cell_type": "markdown",
   "id": "034bbd1b",
   "metadata": {
    "papermill": {
     "duration": 0.039716,
     "end_time": "2022-06-04T14:36:07.584440",
     "exception": false,
     "start_time": "2022-06-04T14:36:07.544724",
     "status": "completed"
    },
    "tags": []
   },
   "source": [
    "Therefore, when selecting our training and test datasets, we want to ensure that the distribution of ages in both approximately matches the distribution in the original dataset, that is the proportion of patients in each age category is about the same."
   ]
  },
  {
   "cell_type": "code",
   "execution_count": 15,
   "id": "9f1dbcde",
   "metadata": {
    "execution": {
     "iopub.execute_input": "2022-06-04T14:36:07.667616Z",
     "iopub.status.busy": "2022-06-04T14:36:07.666950Z",
     "iopub.status.idle": "2022-06-04T14:36:07.695120Z",
     "shell.execute_reply": "2022-06-04T14:36:07.695668Z",
     "shell.execute_reply.started": "2022-02-25T21:07:35.107667Z"
    },
    "papermill": {
     "duration": 0.07133,
     "end_time": "2022-06-04T14:36:07.695844",
     "exception": false,
     "start_time": "2022-06-04T14:36:07.624514",
     "status": "completed"
    },
    "tags": []
   },
   "outputs": [
    {
     "name": "stdout",
     "output_type": "stream",
     "text": [
      "The ratios of the proportion of observations in each age category in the training set to the whole data set are\n",
      "6.0    1.000545\n",
      "5.0    1.000545\n",
      "4.0    1.000545\n",
      "7.0    1.000545\n",
      "3.0    1.012456\n",
      "8.0    0.893344\n",
      "Name: age_cat, dtype: float64\n",
      "\n",
      "Values < 1 indicate relatively fewer observations in that category in the training set than in the original set, whereas values > 1 indicate relatively more.\n",
      "\n",
      "The ratios of the proportion of observations in each sex category in the training set to the whole data set are\n",
      "M    1.000545\n",
      "F    0.997953\n",
      "Name: sex, dtype: float64\n",
      "\n",
      "For the test set, the ratios are\n",
      "6.0    0.997826\n",
      "5.0    0.997826\n",
      "4.0    0.997826\n",
      "7.0    0.997826\n",
      "3.0    0.950311\n",
      "8.0    1.425466\n",
      "Name: age_cat, dtype: float64\n",
      "And\n",
      "M    0.997826\n",
      "F    1.008166\n",
      "Name: sex, dtype: float64\n"
     ]
    }
   ],
   "source": [
    "# A module for doing stratified selections\n",
    "from sklearn.model_selection import StratifiedShuffleSplit\n",
    "\n",
    "# Setting a seed (random_state = 39) means our results are repeatable. Change this if you like.\n",
    "split = StratifiedShuffleSplit(n_splits = 1, test_size = 0.2, random_state = 39)\n",
    "for train_index, test_index in split.split(heart_disease_cleaned, heart_disease_cleaned[\"age_cat\"]):\n",
    "    strat_train_set = heart_disease_cleaned.loc[train_index]\n",
    "    strat_test_set = heart_disease_cleaned.loc[test_index]\n",
    "\n",
    "# The point of this is to check that the proportions of each age group and sex in the training and test sets is similar to that in the source set.\n",
    "original_age_ratios = heart_disease_cleaned['age_cat'].value_counts() / len(heart_disease_cleaned)\n",
    "original_sex_ratios = heart_disease_cleaned['sex'].value_counts() / len(heart_disease_cleaned)\n",
    "\n",
    "train_age_ratios = strat_train_set['age_cat'].value_counts() / len(strat_train_set)\n",
    "train_sex_ratios = strat_train_set['sex'].value_counts() / len(strat_train_set)\n",
    "\n",
    "test_age_ratios = strat_test_set['age_cat'].value_counts() / len(strat_test_set)\n",
    "test_sex_ratios = strat_test_set['sex'].value_counts() / len(strat_test_set)\n",
    "\n",
    "print('The ratios of the proportion of observations in each age category in the training set to the whole data set are')\n",
    "print(train_age_ratios/original_age_ratios)\n",
    "print('\\nValues < 1 indicate relatively fewer observations in that category in the training set than in the original set, whereas values > 1 indicate relatively more.')\n",
    "print('\\nThe ratios of the proportion of observations in each sex category in the training set to the whole data set are')\n",
    "print(train_sex_ratios/original_sex_ratios)\n",
    "print('\\nFor the test set, the ratios are')\n",
    "print(test_age_ratios/original_age_ratios)\n",
    "print('And')\n",
    "print(test_sex_ratios/original_sex_ratios)"
   ]
  },
  {
   "cell_type": "markdown",
   "id": "bd3ffe34",
   "metadata": {
    "papermill": {
     "duration": 0.039815,
     "end_time": "2022-06-04T14:36:07.776225",
     "exception": false,
     "start_time": "2022-06-04T14:36:07.736410",
     "status": "completed"
    },
    "tags": []
   },
   "source": [
    "Overall, this indicates a fairly good split, with the caveat that the 8.0 age category is drastically overrepresented in the test set. However, careful examination of the previous chart of the age category suggests that there might not be that many values in it, which can be easily checked:"
   ]
  },
  {
   "cell_type": "code",
   "execution_count": 16,
   "id": "e22aaa40",
   "metadata": {
    "execution": {
     "iopub.execute_input": "2022-06-04T14:36:07.863322Z",
     "iopub.status.busy": "2022-06-04T14:36:07.862578Z",
     "iopub.status.idle": "2022-06-04T14:36:07.866325Z",
     "shell.execute_reply": "2022-06-04T14:36:07.866843Z",
     "shell.execute_reply.started": "2022-02-25T21:07:35.139465Z"
    },
    "papermill": {
     "duration": 0.050509,
     "end_time": "2022-06-04T14:36:07.867059",
     "exception": false,
     "start_time": "2022-06-04T14:36:07.816550",
     "status": "completed"
    },
    "tags": []
   },
   "outputs": [
    {
     "name": "stdout",
     "output_type": "stream",
     "text": [
      "The number of observations in the highest age category is 7.\n"
     ]
    }
   ],
   "source": [
    "print('The number of observations in the highest age category is ' + str(len(heart_disease_cleaned[heart_disease_cleaned['age_cat'] == 8.0])) + '.')"
   ]
  },
  {
   "cell_type": "markdown",
   "id": "00e4f90d",
   "metadata": {
    "papermill": {
     "duration": 0.040824,
     "end_time": "2022-06-04T14:36:07.948975",
     "exception": false,
     "start_time": "2022-06-04T14:36:07.908151",
     "status": "completed"
    },
    "tags": []
   },
   "source": [
    "Indeed, with only 7 observations of patients 75-85 years old, this category is very small and practically irrelevant. It is also not difficult to see how a random selection might easily lead to an (apparently) highly skewed ratio of entries in that category relative to the original source. Merely selecting two observations with that value of age_cat for the test dataset would in fact produce a result similar to the one actually obtained.\n",
    "\n",
    "With the training and test sets defined, there is just one more data cleaning task to do, normalizing the data. Many (though not all) types of classifier are sensitive to the magnitude of input data, and ours varies by a factor of about 100 between the RestingBP and Cholesterol columns and the Oldpeak and boolean columns. By normalizing this data we can put them on a level plain and more fairly compare different classifiers."
   ]
  },
  {
   "cell_type": "code",
   "execution_count": 17,
   "id": "bbffb82c",
   "metadata": {
    "execution": {
     "iopub.execute_input": "2022-06-04T14:36:08.039973Z",
     "iopub.status.busy": "2022-06-04T14:36:08.039250Z",
     "iopub.status.idle": "2022-06-04T14:36:08.042914Z",
     "shell.execute_reply": "2022-06-04T14:36:08.043573Z",
     "shell.execute_reply.started": "2022-02-25T21:07:35.146027Z"
    },
    "papermill": {
     "duration": 0.053573,
     "end_time": "2022-06-04T14:36:08.043752",
     "exception": false,
     "start_time": "2022-06-04T14:36:07.990179",
     "status": "completed"
    },
    "tags": []
   },
   "outputs": [],
   "source": [
    "# Now the age_cat and sex columns aren't useful, so we get rid of them.\n",
    "for dataset in (heart_disease_cleaned, strat_train_set, strat_test_set):\n",
    "    dataset.drop(['age_cat'], axis=1, inplace=True)\n",
    "    dataset.drop(['sex'], axis=1, inplace=True)"
   ]
  },
  {
   "cell_type": "code",
   "execution_count": 18,
   "id": "5480ff9d",
   "metadata": {
    "execution": {
     "iopub.execute_input": "2022-06-04T14:36:08.129031Z",
     "iopub.status.busy": "2022-06-04T14:36:08.128294Z",
     "iopub.status.idle": "2022-06-04T14:36:08.143662Z",
     "shell.execute_reply": "2022-06-04T14:36:08.144199Z",
     "shell.execute_reply.started": "2022-02-25T21:07:35.161861Z"
    },
    "papermill": {
     "duration": 0.05891,
     "end_time": "2022-06-04T14:36:08.144402",
     "exception": false,
     "start_time": "2022-06-04T14:36:08.085492",
     "status": "completed"
    },
    "tags": []
   },
   "outputs": [],
   "source": [
    "# And now we can normalize them.\n",
    "\n",
    "norm = MinMaxScaler().fit(strat_train_set)\n",
    "\n",
    "norm_train_set = pd.DataFrame(norm.transform(strat_train_set), columns=strat_train_set.columns, index=strat_train_set.index)\n",
    "norm_test_set = pd.DataFrame(norm.transform(strat_test_set), columns=strat_test_set.columns, index=strat_test_set.index)"
   ]
  },
  {
   "cell_type": "markdown",
   "id": "eaffad18",
   "metadata": {
    "execution": {
     "iopub.execute_input": "2022-02-21T17:33:52.041358Z",
     "iopub.status.busy": "2022-02-21T17:33:52.040949Z",
     "iopub.status.idle": "2022-02-21T17:33:52.07974Z",
     "shell.execute_reply": "2022-02-21T17:33:52.079068Z",
     "shell.execute_reply.started": "2022-02-21T17:33:52.041327Z"
    },
    "papermill": {
     "duration": 0.040149,
     "end_time": "2022-06-04T14:36:08.225391",
     "exception": false,
     "start_time": "2022-06-04T14:36:08.185242",
     "status": "completed"
    },
    "tags": []
   },
   "source": [
    "With the data preparation complete, we can now start doing some preliminary, informal analysis of the available data. The first thing to do is to look at the correlation matrices of the various columns of our data, for both the unnormalized and normalized data. This serves as both a sanity check on the normalization (since this is merely rescaling the data, the correlations between different variables should remain the same) and provides a preliminary feeling of what variables a classifier should be looking at more or less closely. After all, if two variables (for example, blood pressure and heart disease) are strongly correlated, then this means that measurements of one should be able to predict the other to a good extent."
   ]
  },
  {
   "cell_type": "code",
   "execution_count": 19,
   "id": "fb42e6d7",
   "metadata": {
    "execution": {
     "iopub.execute_input": "2022-06-04T14:36:08.317118Z",
     "iopub.status.busy": "2022-06-04T14:36:08.316392Z",
     "iopub.status.idle": "2022-06-04T14:36:08.332630Z",
     "shell.execute_reply": "2022-06-04T14:36:08.332039Z",
     "shell.execute_reply.started": "2022-02-25T21:07:35.181016Z"
    },
    "papermill": {
     "duration": 0.065777,
     "end_time": "2022-06-04T14:36:08.332799",
     "exception": false,
     "start_time": "2022-06-04T14:36:08.267022",
     "status": "completed"
    },
    "tags": []
   },
   "outputs": [],
   "source": [
    "# First split the dataframes into the label and the data--we are mainly interested in correlations between the data and the label.\n",
    "# Plus, we need the separate the data and label for training later anyway.\n",
    "\n",
    "strat_train_label = strat_train_set['heart_disease']\n",
    "norm_train_label = norm_train_set['heart_disease']\n",
    "\n",
    "strat_train_data = strat_train_set.loc[:, (strat_train_set.columns != 'heart_disease') & (strat_train_set.columns != 'invalid_cholesterol')]\n",
    "norm_train_data = norm_train_set.loc[:, (norm_train_set.columns != 'heart_disease') & (norm_train_set.columns != 'invalid_cholesterol')]\n",
    "\n",
    "unscaled_corrs = strat_train_data.corrwith(strat_train_label)\n",
    "scaled_corrs = norm_train_data.corrwith(norm_train_label)"
   ]
  },
  {
   "cell_type": "code",
   "execution_count": 20,
   "id": "26917405",
   "metadata": {
    "execution": {
     "iopub.execute_input": "2022-06-04T14:36:08.422298Z",
     "iopub.status.busy": "2022-06-04T14:36:08.421606Z",
     "iopub.status.idle": "2022-06-04T14:36:08.424165Z",
     "shell.execute_reply": "2022-06-04T14:36:08.424724Z",
     "shell.execute_reply.started": "2022-02-25T21:07:35.207551Z"
    },
    "papermill": {
     "duration": 0.050847,
     "end_time": "2022-06-04T14:36:08.424895",
     "exception": false,
     "start_time": "2022-06-04T14:36:08.374048",
     "status": "completed"
    },
    "tags": []
   },
   "outputs": [
    {
     "data": {
      "text/plain": [
       "flat_st            0.550854\n",
       "asy_chest_pain     0.523488\n",
       "exercise_angina    0.507783\n",
       "oldpeak            0.406019\n",
       "male               0.292173\n",
       "age                0.283755\n",
       "fasting_bs         0.253235\n",
       "resting_bp         0.117714\n",
       "down_st            0.117454\n",
       "st_ecg             0.113649\n",
       "cholesterol        0.098922\n",
       "lvh_ecg            0.032370\n",
       "ta_chest_pain     -0.005672\n",
       "normal_ecg        -0.118570\n",
       "nap_chest_pain    -0.241006\n",
       "female            -0.292173\n",
       "ata_chest_pain    -0.403090\n",
       "max_hr            -0.403684\n",
       "up_st             -0.612334\n",
       "dtype: float64"
      ]
     },
     "execution_count": 20,
     "metadata": {},
     "output_type": "execute_result"
    }
   ],
   "source": [
    "unscaled_corrs.sort_values(ascending=False)"
   ]
  },
  {
   "cell_type": "code",
   "execution_count": 21,
   "id": "8bdf6bd3",
   "metadata": {
    "execution": {
     "iopub.execute_input": "2022-06-04T14:36:08.510795Z",
     "iopub.status.busy": "2022-06-04T14:36:08.510178Z",
     "iopub.status.idle": "2022-06-04T14:36:08.516594Z",
     "shell.execute_reply": "2022-06-04T14:36:08.517153Z",
     "shell.execute_reply.started": "2022-02-25T21:07:35.21634Z"
    },
    "papermill": {
     "duration": 0.050896,
     "end_time": "2022-06-04T14:36:08.517330",
     "exception": false,
     "start_time": "2022-06-04T14:36:08.466434",
     "status": "completed"
    },
    "tags": []
   },
   "outputs": [
    {
     "data": {
      "text/plain": [
       "flat_st            0.550854\n",
       "asy_chest_pain     0.523488\n",
       "exercise_angina    0.507783\n",
       "oldpeak            0.406019\n",
       "male               0.292173\n",
       "age                0.283755\n",
       "fasting_bs         0.253235\n",
       "resting_bp         0.117714\n",
       "down_st            0.117454\n",
       "st_ecg             0.113649\n",
       "cholesterol        0.098922\n",
       "lvh_ecg            0.032370\n",
       "ta_chest_pain     -0.005672\n",
       "normal_ecg        -0.118570\n",
       "nap_chest_pain    -0.241006\n",
       "female            -0.292173\n",
       "ata_chest_pain    -0.403090\n",
       "max_hr            -0.403684\n",
       "up_st             -0.612334\n",
       "dtype: float64"
      ]
     },
     "execution_count": 21,
     "metadata": {},
     "output_type": "execute_result"
    }
   ],
   "source": [
    "scaled_corrs.sort_values(ascending=False)"
   ]
  },
  {
   "cell_type": "code",
   "execution_count": 22,
   "id": "adb697a2",
   "metadata": {
    "execution": {
     "iopub.execute_input": "2022-06-04T14:36:08.609468Z",
     "iopub.status.busy": "2022-06-04T14:36:08.603593Z",
     "iopub.status.idle": "2022-06-04T14:36:09.010909Z",
     "shell.execute_reply": "2022-06-04T14:36:09.010300Z",
     "shell.execute_reply.started": "2022-02-25T21:07:35.229412Z"
    },
    "papermill": {
     "duration": 0.451853,
     "end_time": "2022-06-04T14:36:09.011072",
     "exception": false,
     "start_time": "2022-06-04T14:36:08.559219",
     "status": "completed"
    },
    "tags": []
   },
   "outputs": [
    {
     "name": "stderr",
     "output_type": "stream",
     "text": [
      "/opt/conda/lib/python3.7/site-packages/ipykernel_launcher.py:59: UserWarning: FixedFormatter should only be used together with FixedLocator\n"
     ]
    },
    {
     "data": {
      "image/png": "[encoded data removed]",
      "text/plain": [
       "<Figure size 576x864 with 1 Axes>"
      ]
     },
     "metadata": {
      "needs_background": "light"
     },
     "output_type": "display_data"
    }
   ],
   "source": [
    "positive_corrs = scaled_corrs >= 0\n",
    "corr_color_map = positive_corrs.map({True:'#AA0000', False:'#33A1C9'})\n",
    "\n",
    "corr_label_dict = {\n",
    "    'down_st': 'ST Segment Downslope',\n",
    "    'flat_st': 'ST Segment Flat',\n",
    "    'up_st': 'ST Segment Upslope',\n",
    "    'lvh_ecg': 'Left Ventricular Hypertrophy',\n",
    "    'st_ecg': 'ST-T Wave Abnormality',\n",
    "    'normal_ecg': 'Normal ECG',\n",
    "    'asy_chest_pain': 'Asymptotic Chest Pain',\n",
    "    'nap_chest_pain': 'Non-Anginal Chest Pain',\n",
    "    'ata_chest_pain': 'Atypical Angina',\n",
    "    'ta_chest_pain': 'Typical Angina',\n",
    "    'female': 'Female',\n",
    "    'male': 'Male',\n",
    "    'oldpeak': 'ST Segment Depression',\n",
    "    'exercise_angina': 'Exercise Angina',\n",
    "    'max_hr': 'Maximum Heart Rate Achieved',\n",
    "    'fasting_bs': 'Pre-Diabetic or Diabetic',\n",
    "    'cholesterol': 'Cholesterol Level',\n",
    "    'resting_bp': 'Resting Blood Pressure',\n",
    "    'age': 'Age'\n",
    "}\n",
    "\n",
    "cat_corrs = scaled_corrs.loc[['down_st', 'flat_st', 'up_st', 'lvh_ecg', 'st_ecg', 'normal_ecg', 'asy_chest_pain', 'nap_chest_pain',\n",
    "                                    'ata_chest_pain', 'ta_chest_pain', 'female', 'male', 'exercise_angina', 'fasting_bs', 'age']]\n",
    "cont_corrs = scaled_corrs.loc[['oldpeak', 'max_hr', 'cholesterol', 'resting_bp']]\n",
    "\n",
    "positive_cat_corrs = cat_corrs >= 0\n",
    "cat_color_map = positive_cat_corrs.map({True:'#AA0000', False:'#33A1C9'})\n",
    "\n",
    "positive_cont_corrs = cont_corrs >= 0\n",
    "cont_color_map = positive_cont_corrs.map({True:'#AA0000', False:'#33A1C9'})\n",
    "\n",
    "fig, ax = plt.subplots(figsize=(8, 12))\n",
    "\n",
    "ax.barh(cat_corrs.index, cat_corrs, height=0.75, color=cat_color_map)\n",
    "ax.barh(cont_corrs.index, cont_corrs, height=0.75, color=cont_color_map)\n",
    "\n",
    "for location in ['left', 'right', 'bottom', 'top']:\n",
    "    ax.spines[location].set_visible(False)\n",
    "    \n",
    "ax.tick_params(bottom=False, left=False)\n",
    "\n",
    "ax.set_xticks([-0.5, -0.25, 0, 0.25, 0.5])\n",
    "\n",
    "ax.set_title(\"Heart Disease Most Strongly Correlated with ST Slope\", size = 17, weight='bold')\n",
    "\n",
    "plt.draw()\n",
    "\n",
    "tick_coords = ax.get_yticks()\n",
    "new_labels = []\n",
    "original_labels = ax.get_yticklabels()\n",
    "\n",
    "for n in tick_coords:\n",
    "    new_labels.append(plt.Text(0, n, corr_label_dict[original_labels[n].get_text()]))\n",
    "    \n",
    "ax.set_yticklabels(new_labels)\n",
    "\n",
    "plt.draw()"
   ]
  },
  {
   "cell_type": "markdown",
   "id": "f29009aa",
   "metadata": {
    "papermill": {
     "duration": 0.042739,
     "end_time": "2022-06-04T14:36:09.098239",
     "exception": false,
     "start_time": "2022-06-04T14:36:09.055500",
     "status": "completed"
    },
    "tags": []
   },
   "source": [
    "Examining these results, they firstly confirm that the normalizer is at least not obviously malfunctioning: the magnitudes and signs of the correlations in both the normalized and raw data are the same, as expected. Secondly, and more interestingly, they show certain patterns in which clinical signs are predictive of heart disease, which are predictive of not having heart disease, and which are relatively irrelevant. For example, the slope of the ST segment of the ECG appears to be the most predictive single variable for whether a patient has heart disease or not, with flat or downsloping segments (especially flat ones) being positively associated with heart disease. Other key variables include the presence (or absence) of exercise-related angina or asymptotic chest pain, or the value of the Oldpeak variable, that is the depression of the ST segment below the baseline. Surprisingly, the *absence* of chest pain is associated with a heart disease diagnosis, but the presence of chest pain, other than typical angina, is instead correlated with *not* being diagnosed with heart disease.\n",
    "\n",
    "Now we can begin looking at the different classifiers themselves. I have selected ten diferent classifiers, each of which takes a different approach to try to divide the dataset into patients that have heart disease and patients who do not have heart disease. The first, the multi-layer perceptron classifier, is a classical neural network algorithm that uses one or more \"hidden\" layers of neurons (between the input and output levels) to build a non-linear function mapping the input values into the output.[1](https://scikit-learn.org/stable/modules/neural_networks_supervised.html)\n",
    "\n",
    "The second, the k-neighbors classifier, is closely related to the k-nearest-neighbors clustering algorithm, and functions by finding the nearest observations to a given observation in a higher-dimensional space created by the data variables. Specifically, it measures the Euclidean distances between the point to be classified and its k nearest neighbors (hence the name) in this higher-dimensional space. Whichever class has more neighbors in this set then \"wins,\" and the point to be classified is assigned to it.[2](https://scikit-learn.org/stable/modules/neighbors.html#classification)\n",
    "\n",
    "The third, the support vector classifier, works by constructing hyperplanes within the higher-dimension space created by the data variables that separate the data into two (or more, but in this case two) subsets. The \"support vectors\" of the name are the set of points that determine the position of the hyperplane or hyperplanes; generally speaking, the optimal hyperplane will be the one that maximizes the distance between the plane and the nearest points in each class, and the support vectors are then exactly these nearest points.[3](https://scikit-learn.org/stable/modules/svm.html#svm-mathematical-formulation)\n",
    "\n",
    "The fourth, the Gaussian process classifier, is based on building a Gaussian process, essentially a version of the Gaussian distribution extended to the case of the multivariate distribution of infinite number of variables, which is then transformed by using a quantile function to obtain a probability. In turn, this can be used to determine the class of an observation, especially in a binary case, and makes them relatively easily to understand statistically. For this case, as well, the relatively small number of observations and variables means that their performance issues are mitigated.[4](https://scikit-learn.org/stable/modules/gaussian_process.html)\n",
    "\n",
    "The fifth, the decision tree classifier, was explained in the course, but works by attempting to find combinations of variable values that divide the data space most efficiently into the target classes (in this case, two classes). In practice, it is usually not possible to completely separate the data into the target classes with a single rule, so each rule is instead used to separate the subspaces into further subspaces that are increasingly pure examples of a given target class. Ideally, the decision tree will come up with rules that can be used to divide the space into a set of pure subspaces that only contain data corresponding to one of the target classes, but in practice this usually requires an excessive tree depth and leads to overfitting, so instead the eventual subspaces only tend to be mostly pure.[5](https://scikit-learn.org/stable/modules/tree.html#tree)\n",
    "\n",
    "The sixth, the random forest classifier, builds on the decision tree classifier to help mitigate some of its flaws. Instead of building a single decision tree on all of the data, it builds multiple decision trees on randomized subsets of the training data (hence \"random forest\") and then presents their average or ensemble result as the output for test data. This reduces the risk of overfitting and improves overall performance, making this a powerful model for classification predicions.[6](https://scikit-learn.org/stable/modules/ensemble.html#forest)\n",
    "\n",
    "The seventh, the AdaBoost classifier, is similar to the random forest classifier, in that it is based on combining the results from many weak or limited models in order to provide a stronger and more accurate prediction. The difference is that instead of merely running these models in parallel on subsets of the data and averaging them together, it uses a weighted average of models fitted on modified versions of the data. These modifications are determined iteratively and conist of weighting data that the models find difficult to predict more heavily than data that they predict easily, in effect giving a louder \"voice\" to models that can predict harder cases.[7](https://scikit-learn.org/stable/modules/ensemble.html#adaboost)\n",
    "\n",
    "The eighth, the Gaussian naïve Bayes model, functions by using Bayes' theorem, which permits the inversion of conditional probabilities (i.e., it allows the use of the probability of B given A to calculate the probability of A given B). The \"naïveté\" of the model comes from it assuming that the probability of the target feature (in this case whether or not a patient has heart disease) as a function of a given variable (for example, the blood pressure) is independent of the probability of the target feature as a function of a different variable, for example whether or not the patient has exercise angina. This assumption simplifies the mathematics considerably, but there is usually not any reason to believe that this is the case for a real model. Finally, the \"Gaussian\" part merely means that a Gaussian distribution is assumed for the conditional probabilities, again something that there is no real reason to believe is true but which simplifies the calculations. The result is a rather simple model, but simplicity can sometimes be a strength.[8](https://scikit-learn.org/stable/modules/naive_bayes.html)\n",
    "\n",
    "The ninth and tenth, the linear discriminant and quadratic discriminant models, respectively, are closely related, and related to the Gaussian naïve Bayes model, in that they also rely on Bayes' theorem to calculate the probability of a given point being in the relevant class. They differ from the Gaussian naïve Bayes model primarily in that they do not assume that the various probabilities of interest are independent, and they differ from each other mainly in that the prior distribution of the linear discriminant model assumes the there is a single covariance matrix for each class (in this case, no heart disease and heart disease), while in the quadratic model they are permitted to have different covariance matrices. The result is that the linear model can only find linear separation boundaries while the quadratic model can find quadratic ones.[9](https://scikit-learn.org/stable/modules/lda_qda.html#lda-qda)\n",
    "\n",
    "This by no means exhausts the universe of possible classifiers, however I judged that running a substantially larger number of classifiers would increase the complexity and resource consumption of this notebook without much further value. Looking at ten sometimes very different models and comparing their accuracy should be very enlightening as to the relative value of optimizing the model for a given classification problem and provide guidance on which approaches to take for a follow-up study."
   ]
  },
  {
   "cell_type": "code",
   "execution_count": 23,
   "id": "63cb5dcc",
   "metadata": {
    "execution": {
     "iopub.execute_input": "2022-06-04T14:36:09.188112Z",
     "iopub.status.busy": "2022-06-04T14:36:09.187395Z",
     "iopub.status.idle": "2022-06-04T14:36:22.224085Z",
     "shell.execute_reply": "2022-06-04T14:36:22.225750Z",
     "shell.execute_reply.started": "2022-02-25T21:07:35.62439Z"
    },
    "papermill": {
     "duration": 13.085018,
     "end_time": "2022-06-04T14:36:22.226154",
     "exception": false,
     "start_time": "2022-06-04T14:36:09.141136",
     "status": "completed"
    },
    "tags": []
   },
   "outputs": [
    {
     "name": "stderr",
     "output_type": "stream",
     "text": [
      "/opt/conda/lib/python3.7/site-packages/sklearn/discriminant_analysis.py:715: UserWarning: Variables are collinear\n",
      "  warnings.warn(\"Variables are collinear\")\n"
     ]
    }
   ],
   "source": [
    "# Seeds were randomly selected to provide reproducability. Feel free to change them if you like!\n",
    "mlp_predictor = MLPClassifier(random_state = 91, max_iter = 1650).fit(norm_train_data, norm_train_label) #Iter value set experimentally to allow convergence.\n",
    "knc_predictor = KNeighborsClassifier().fit(norm_train_data, norm_train_label)\n",
    "svc_predictor = SVC().fit(norm_train_data, norm_train_label)\n",
    "gpc_predictor = GaussianProcessClassifier(random_state = 78).fit(norm_train_data, norm_train_label)\n",
    "dtc_predictor = DecisionTreeClassifier(random_state = 86).fit(norm_train_data, norm_train_label)\n",
    "rfc_predictor = RandomForestClassifier(random_state = 31).fit(norm_train_data, norm_train_label)\n",
    "abc_predictor = AdaBoostClassifier(random_state = 68).fit(norm_train_data, norm_train_label)\n",
    "gnb_predictor = GaussianNB().fit(norm_train_data, norm_train_label)\n",
    "lda_predictor = LinearDiscriminantAnalysis().fit(norm_train_data, norm_train_label)\n",
    "qda_predictor = QuadraticDiscriminantAnalysis().fit(norm_train_data, norm_train_label)"
   ]
  },
  {
   "cell_type": "code",
   "execution_count": 24,
   "id": "db8e466d",
   "metadata": {
    "execution": {
     "iopub.execute_input": "2022-06-04T14:36:22.373525Z",
     "iopub.status.busy": "2022-06-04T14:36:22.372273Z",
     "iopub.status.idle": "2022-06-04T14:36:22.493220Z",
     "shell.execute_reply": "2022-06-04T14:36:22.494124Z",
     "shell.execute_reply.started": "2022-02-25T21:37:20.194481Z"
    },
    "papermill": {
     "duration": 0.188294,
     "end_time": "2022-06-04T14:36:22.494405",
     "exception": false,
     "start_time": "2022-06-04T14:36:22.306111",
     "status": "completed"
    },
    "tags": []
   },
   "outputs": [
    {
     "data": {
      "text/plain": [
       "DTC    0.782609\n",
       "KNC    0.793478\n",
       "QDA    0.798913\n",
       "GPC    0.815217\n",
       "MLP    0.820652\n",
       "ABC    0.831522\n",
       "SVC    0.836957\n",
       "LDA    0.836957\n",
       "GNB    0.853261\n",
       "RFC    0.858696\n",
       "dtype: float64"
      ]
     },
     "execution_count": 24,
     "metadata": {},
     "output_type": "execute_result"
    }
   ],
   "source": [
    "# Prepare test data for, well, testing\n",
    "norm_test_label = norm_test_set['heart_disease']\n",
    "norm_test_data = norm_test_set.loc[:, (norm_test_set.columns != 'heart_disease') & (norm_test_set.columns != 'invalid_cholesterol')]\n",
    "\n",
    "predictors = [\n",
    "    mlp_predictor,\n",
    "    knc_predictor,\n",
    "    svc_predictor,\n",
    "    gpc_predictor,\n",
    "    dtc_predictor,\n",
    "    rfc_predictor,\n",
    "    abc_predictor,\n",
    "    gnb_predictor,\n",
    "    lda_predictor,\n",
    "    qda_predictor\n",
    "]\n",
    "\n",
    "predictor_names = [\n",
    "    'MLP',\n",
    "    'KNC',\n",
    "    'SVC',\n",
    "    'GPC',\n",
    "    'DTC',\n",
    "    'RFC',\n",
    "    'ABC',\n",
    "    'GNB',\n",
    "    'LDA',\n",
    "    'QDA'\n",
    "]\n",
    "\n",
    "scores = []\n",
    "\n",
    "for predictor in predictors:\n",
    "    scores.append(predictor.score(norm_test_data, norm_test_label))\n",
    "    \n",
    "series_scores = pd.Series(scores, index = predictor_names)\n",
    "\n",
    "series_scores.sort_values()"
   ]
  },
  {
   "cell_type": "code",
   "execution_count": 25,
   "id": "af89a126",
   "metadata": {
    "execution": {
     "iopub.execute_input": "2022-06-04T14:36:22.640759Z",
     "iopub.status.busy": "2022-06-04T14:36:22.639996Z",
     "iopub.status.idle": "2022-06-04T14:36:22.881993Z",
     "shell.execute_reply": "2022-06-04T14:36:22.881464Z",
     "shell.execute_reply.started": "2022-02-25T21:07:47.371227Z"
    },
    "papermill": {
     "duration": 0.3233,
     "end_time": "2022-06-04T14:36:22.882142",
     "exception": false,
     "start_time": "2022-06-04T14:36:22.558842",
     "status": "completed"
    },
    "tags": []
   },
   "outputs": [
    {
     "data": {
      "text/plain": [
       "[Text(0, 0.0, '0.0%'), Text(0, 0.4, '40.0%'), Text(0, 0.8, '80.0%')]"
      ]
     },
     "execution_count": 25,
     "metadata": {},
     "output_type": "execute_result"
    },
    {
     "data": {
      "image/png": "[encoded data removed]",
      "text/plain": [
       "<Figure size 576x432 with 1 Axes>"
      ]
     },
     "metadata": {
      "needs_background": "light"
     },
     "output_type": "display_data"
    }
   ],
   "source": [
    "fig, ax = plt.subplots(figsize=(8, 6))\n",
    "\n",
    "series_scores.sort_values(inplace=True, ascending=False)\n",
    "\n",
    "ax.bar(series_scores.index, series_scores, width=0.7, color='#AA0000')\n",
    "\n",
    "for location in ['left', 'right', 'bottom', 'top']:\n",
    "    ax.spines[location].set_visible(False)\n",
    "    \n",
    "ax.tick_params(bottom=False, left=False)\n",
    "\n",
    "ax.set_yticks([0.0, 0.4, 0.8])\n",
    "\n",
    "ax.set_title('Modest Difference in Accuracy Between Classifiers', size = 17, weight='bold')\n",
    "\n",
    "plt.ylabel('Percentage of cases correctly classified')\n",
    "plt.xlabel('Classifier model')\n",
    "\n",
    "plt.draw()\n",
    "\n",
    "tick_coords = ax.get_yticks()\n",
    "new_labels = []\n",
    "original_labels = ax.get_yticklabels()\n",
    "\n",
    "for n in tick_coords:\n",
    "    new_labels.append(plt.Text(0, n, str(n * 100) + '%'))\n",
    "    \n",
    "ax.set_yticklabels(new_labels)"
   ]
  },
  {
   "cell_type": "markdown",
   "id": "fd9139b3",
   "metadata": {
    "papermill": {
     "duration": 0.044829,
     "end_time": "2022-06-04T14:36:22.971915",
     "exception": false,
     "start_time": "2022-06-04T14:36:22.927086",
     "status": "completed"
    },
    "tags": []
   },
   "source": [
    "A quick perusal of the scores shows that the best-performing predictors, both with about 85% accuracy, were the Gaussian naïve Bayes model and the random forest classifier. In the latter case this is perhaps not surprising, since the random forest model is known to be particularly powerful, but it is somewhat surprising that a relatively simple naïve Bayes model should outperform nearly all other approaches. It is even more surprising that it worked so well given that there is no reason to expect many of the values in fact follow Gaussian distributions, one of the key assumptions of Gaussian naïve Bayes. However, naïve Bayes is known for being more accurate that would appear likely at first glance, so perhaps this itself should have been expected. By contrast, the least accurate models, with accuracies of about 78-79%, were the ordinary decision tree classifier, the k-neighbors model, and the quadratic discriminant analysis classifier. In the first case this is not surprising since decision trees are known for overfitting and so tend to generalize poorly, but in the others the cause is less obvious, and it is not clear to me why they perform so badly. Particularly surprising is that quadratic analysis performed noticeably worse than the linear analysis, despite having a freer model.\n",
    "\n",
    "In any case, the actual demonstrated accuracy of all of the models tested, with these default hyperparameter settings, is clearly far too low to be useful in a clinical setting. Even an 85% accuracy means that in 15% of cases, or fifteen out of every hundred patients, the model incorrectly predicts the label, that is either predicts the patient has heart disease when they do not or predicts that they do not have heart disease when they in fact do. Since a diagnosis one way or the other can have life-ending consequences (particularly in the case of a false negative) and given the high prevalance of heart disease in the modern world, such a low accuracy could lead to potentially millions of mistaken diagnoses, thousands of unnecessary deaths, and millions or billions of dollars worth of unnecessary and invasive diagnostic procedures. Clearly, a much higher accuracy would be needed before clinical deployment could take place.\n",
    "\n",
    "Given the naïve and simple methodology used in this analysis, significant improvements are surely possible. Other models could be tested, which might provide some improvement, but more significantly very little effort was made in this analysis to optimize either data features or model hyperparameters. The features used were largely those of the source dataset, merely modified to make them more usable by machine learning models, and none of the model hyperparameters were changed except to set random seeds on applicable models for reproducability reasons and to increase the number of iterations for the multi-layer perceptron to ensure that it successfully converged. Thoroughly exploring the hyperparameter space and engaging in feature engineering to optimize the input features might lead to significant improvements in accuracy and so create a clinically useful system instead of a mere curiosity. However, doing so is outside of the scope of this project, and would be more appropriate for a follow-on project."
   ]
  }
 ],
 "metadata": {
  "kernelspec": {
   "display_name": "Python 3",
   "language": "python",
   "name": "python3"
  },
  "language_info": {
   "codemirror_mode": {
    "name": "ipython",
    "version": 3
   },
   "file_extension": ".py",
   "mimetype": "text/x-python",
   "name": "python",
   "nbconvert_exporter": "python",
   "pygments_lexer": "ipython3",
   "version": "3.7.10"
  },
  "papermill": {
   "default_parameters": {},
   "duration": 29.826035,
   "end_time": "2022-06-04T14:36:23.728332",
   "environment_variables": {},
   "exception": null,
   "input_path": "__notebook__.ipynb",
   "output_path": "__notebook__.ipynb",
   "parameters": {},
   "start_time": "2022-06-04T14:35:53.902297",
   "version": "2.3.3"
  }
 },
 "nbformat": 4,
 "nbformat_minor": 5
}
